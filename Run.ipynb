{
 "cells": [
  {
   "attachments": {},
   "cell_type": "markdown",
   "metadata": {},
   "source": [
    "Setup"
   ]
  },
  {
   "cell_type": "code",
   "execution_count": 1,
   "metadata": {},
   "outputs": [],
   "source": [
    "from tensorflow_docs.vis import embed\n",
    "\n",
    "from tensorflow import keras\n",
    "from keras import layers\n",
    "\n",
    "import matplotlib.pyplot as plt\n",
    "import tensorflow as tf\n",
    "import pandas as pd\n",
    "import numpy as np\n",
    "import imageio\n",
    "import cv2\n",
    "import os"
   ]
  },
  {
   "attachments": {},
   "cell_type": "markdown",
   "metadata": {},
   "source": [
    "Data preparation"
   ]
  },
  {
   "cell_type": "code",
   "execution_count": 2,
   "metadata": {},
   "outputs": [],
   "source": [
    "#INDEX 5\n",
    "MAX_SEQ_LENGTH_TRANSFORM = 40\n",
    "NUM_FEATURES_TRANSFORM = 1024\n",
    "\n",
    "#INDEX 15 (DENSE)\n",
    "NUM_FEATURES_DENSE = 2048\n",
    "\n",
    "#INDEX 10 (GRU) y 11 (LSTM)\n",
    "MAX_SEQ_LENGTH_RNN = 40\n",
    "NUM_FEATURES_RNN = 2048\n",
    "\n",
    "IMG_SIZE = 128\n",
    "\n",
    "CLASSES = 4"
   ]
  },
  {
   "cell_type": "markdown",
   "metadata": {},
   "source": [
    "CNN (DenseNet121 or InceptionV3)"
   ]
  },
  {
   "cell_type": "code",
   "execution_count": 3,
   "metadata": {},
   "outputs": [],
   "source": [
    "center_crop_layer = layers.CenterCrop(IMG_SIZE, IMG_SIZE)\n",
    "\n",
    "def crop_center(frame):\n",
    "    cropped = center_crop_layer(frame[None, ...])\n",
    "    cropped = cropped.numpy().squeeze()\n",
    "    return cropped\n",
    "\n",
    "def IsBlack(frame, y, x):\n",
    "    height, width, _ = frame.shape\n",
    "    cond = True\n",
    "    r = 2\n",
    "    i = -r\n",
    "    j = -r\n",
    "    while i < r and i + y < height and i + y > 0 and cond:\n",
    "        j = 0\n",
    "        while j < r and j + x < width and j + x > 0 and cond:\n",
    "            if frame[y+i, x+j].any() != 0:\n",
    "                cond = False\n",
    "            j = j + 1\n",
    "        i = i + 1\n",
    "              \n",
    "    return cond\n",
    "\n",
    "def get_dimension(frame):\n",
    "    height, width, _ = frame.shape\n",
    "\n",
    "    halfWidth = int(width / 2)\n",
    "    halfHeight = int(height / 2)\n",
    "\n",
    "    up = 0\n",
    "    down = height - 1\n",
    "    left = halfWidth - 1\n",
    "    right = halfWidth + 1\n",
    "\n",
    "    while IsBlack(frame, up, halfWidth) and up < halfHeight:\n",
    "            up = up + 1\n",
    "    while IsBlack(frame, down, halfWidth) and down > halfHeight:\n",
    "            down = down - 1\n",
    "\n",
    "    while not IsBlack(frame, up + 5, left) and left > 0:\n",
    "            left = left - 1\n",
    "    while not IsBlack(frame, up + 5, right) and right < width:\n",
    "            right = right + 1\n",
    "\n",
    "    up = up - 1\n",
    "    down = down + 1\n",
    "    left = left - 1\n",
    "    right = right + 1\n",
    "\n",
    "    return right, up, left, down\n",
    "\n",
    "def load_video(path, max_frames=0):\n",
    "\n",
    "    cap = cv2.VideoCapture(path)\n",
    "    frames = []\n",
    "\n",
    "    try:\n",
    "        ret, frame = cap.read()\n",
    "        right, up, left, down = get_dimension(frame)\n",
    "        while True:\n",
    "\n",
    "            if not ret:\n",
    "                break\n",
    "\n",
    "            frame = frame[up:down, left:right]\n",
    "            frame = crop_center(frame)\n",
    "            frame = frame[:, :, [2, 1, 0]]\n",
    "            frames.append(frame)\n",
    "\n",
    "            if len(frames) == max_frames:\n",
    "                break            \n",
    "            ret, frame = cap.read()\n",
    "    finally:\n",
    "        cap.release()\n",
    "    return np.array(frames)"
   ]
  },
  {
   "cell_type": "code",
   "execution_count": 4,
   "metadata": {},
   "outputs": [],
   "source": [
    "def build_feature_extractor():\n",
    "    feature_extractor = keras.applications.DenseNet121(\n",
    "        weights=\"imagenet\",\n",
    "        include_top=False,\n",
    "        pooling=\"avg\",\n",
    "        input_shape=(IMG_SIZE, IMG_SIZE, 3),\n",
    "    )\n",
    "    preprocess_input = keras.applications.densenet.preprocess_input\n",
    "\n",
    "    inputs = keras.Input((IMG_SIZE, IMG_SIZE, 3))\n",
    "    preprocessed = preprocess_input(inputs)\n",
    "\n",
    "    outputs = feature_extractor(preprocessed)\n",
    "    return keras.Model(inputs, outputs, name=\"feature_extractor\")\n",
    "\n",
    "\n",
    "feature_extractor_TRANSFORMER = build_feature_extractor()"
   ]
  },
  {
   "cell_type": "code",
   "execution_count": 5,
   "metadata": {},
   "outputs": [],
   "source": [
    "def build_feature_extractor():\n",
    "    feature_extractor = keras.applications.InceptionV3(\n",
    "        weights=\"imagenet\",\n",
    "        include_top=False,\n",
    "        pooling=\"avg\",\n",
    "        input_shape=(IMG_SIZE, IMG_SIZE, 3),\n",
    "    )\n",
    "    preprocess_input = keras.applications.inception_v3.preprocess_input\n",
    "\n",
    "    inputs = keras.Input((IMG_SIZE, IMG_SIZE, 3))\n",
    "    preprocessed = preprocess_input(inputs)\n",
    "\n",
    "    outputs = feature_extractor(preprocessed)\n",
    "    return keras.Model(inputs, outputs, name=\"feature_extractor\")\n",
    "\n",
    "\n",
    "feature_extractor_RNN = build_feature_extractor()"
   ]
  },
  {
   "attachments": {},
   "cell_type": "markdown",
   "metadata": {},
   "source": [
    "TRANSFORMER"
   ]
  },
  {
   "cell_type": "code",
   "execution_count": 6,
   "metadata": {},
   "outputs": [
    {
     "name": "stdout",
     "output_type": "stream",
     "text": [
      "Model: \"model\"\n",
      "_________________________________________________________________\n",
      " Layer (type)                Output Shape              Param #   \n",
      "=================================================================\n",
      " input_5 (InputLayer)        [(None, None, None)]      0         \n",
      "                                                                 \n",
      " frame_position_embedding (P  (None, None, 1024)       40960     \n",
      " ositionalEmbedding)                                             \n",
      "                                                                 \n",
      " transformer_layer (Transfor  (None, None, 1024)       4211716   \n",
      " merEncoder)                                                     \n",
      "                                                                 \n",
      " global_max_pooling1d (Globa  (None, 1024)             0         \n",
      " lMaxPooling1D)                                                  \n",
      "                                                                 \n",
      " dropout (Dropout)           (None, 1024)              0         \n",
      "                                                                 \n",
      " dense_2 (Dense)             (None, 4)                 4100      \n",
      "                                                                 \n",
      "=================================================================\n",
      "Total params: 4,256,776\n",
      "Trainable params: 4,256,776\n",
      "Non-trainable params: 0\n",
      "_________________________________________________________________\n"
     ]
    }
   ],
   "source": [
    "class PositionalEmbedding(layers.Layer):\n",
    "    def __init__(self, sequence_length, output_dim, **kwargs):\n",
    "        super().__init__(**kwargs)\n",
    "        self.position_embeddings = layers.Embedding(\n",
    "            input_dim=sequence_length, output_dim=output_dim\n",
    "        )\n",
    "        self.sequence_length = sequence_length\n",
    "        self.output_dim = output_dim\n",
    "\n",
    "    def call(self, inputs):\n",
    "        # The inputs are of shape: `(batch_size, frames, num_features)`\n",
    "        length = tf.shape(inputs)[1]\n",
    "        positions = tf.range(start=0, limit=length, delta=1)\n",
    "        embedded_positions = self.position_embeddings(positions)\n",
    "        return inputs + embedded_positions\n",
    "\n",
    "    def compute_mask(self, inputs, mask=None):\n",
    "        mask = tf.reduce_any(tf.cast(inputs, \"bool\"), axis=-1)\n",
    "        return mask\n",
    "\n",
    "class TransformerEncoder(layers.Layer):\n",
    "    def __init__(self, embed_dim, dense_dim, num_heads, **kwargs):\n",
    "        super().__init__(**kwargs)\n",
    "        self.embed_dim = embed_dim\n",
    "        self.dense_dim = dense_dim\n",
    "        self.num_heads = num_heads\n",
    "        self.attention = layers.MultiHeadAttention(\n",
    "            num_heads=num_heads, key_dim=embed_dim, dropout=0.3\n",
    "        )\n",
    "        self.dense_proj = keras.Sequential(\n",
    "            [layers.Dense(dense_dim, activation=tf.nn.gelu), layers.Dense(embed_dim),]\n",
    "        )\n",
    "        self.layernorm_1 = layers.LayerNormalization()\n",
    "        self.layernorm_2 = layers.LayerNormalization()\n",
    "\n",
    "    def call(self, inputs, mask=None):\n",
    "        if mask is not None:\n",
    "            mask = mask[:, tf.newaxis, :]\n",
    "\n",
    "        attention_output = self.attention(inputs, inputs, attention_mask=mask)\n",
    "        proj_input = self.layernorm_1(inputs + attention_output)\n",
    "        proj_output = self.dense_proj(proj_input)\n",
    "        return self.layernorm_2(proj_input + proj_output)\n",
    "    \n",
    "def get_compiled_model():\n",
    "    sequence_length = MAX_SEQ_LENGTH_TRANSFORM\n",
    "    embed_dim = NUM_FEATURES_TRANSFORM\n",
    "    dense_dim = 4\n",
    "    num_heads = 1\n",
    "\n",
    "    inputs = keras.Input(shape=(None, None))\n",
    "    x = PositionalEmbedding(\n",
    "        sequence_length, embed_dim, name=\"frame_position_embedding\"\n",
    "    )(inputs)\n",
    "    x = TransformerEncoder(embed_dim, dense_dim, num_heads, name=\"transformer_layer\")(x)\n",
    "    x = layers.GlobalMaxPooling1D()(x)\n",
    "    x = layers.Dropout(0.5)(x)\n",
    "    outputs = layers.Dense(CLASSES, activation=\"softmax\")(x)\n",
    "    model = keras.Model(inputs, outputs)\n",
    "\n",
    "    model.compile(\n",
    "        optimizer=\"adam\", loss=\"sparse_categorical_crossentropy\", metrics=[\"accuracy\"]\n",
    "    )\n",
    "    return model\n",
    "\n",
    "\n",
    "def run_experiment():\n",
    "    filepath = f\"Model/Transformer/video_classifier\"\n",
    "    \n",
    "    model = get_compiled_model()\n",
    "    model.load_weights(filepath)\n",
    "    model.summary()\n",
    "\n",
    "    return model\n",
    "\n",
    "TRANSFORMER_model = run_experiment()"
   ]
  },
  {
   "cell_type": "markdown",
   "metadata": {},
   "source": [
    "GRU"
   ]
  },
  {
   "cell_type": "code",
   "execution_count": 7,
   "metadata": {},
   "outputs": [
    {
     "name": "stdout",
     "output_type": "stream",
     "text": [
      "Model: \"model_1\"\n",
      "__________________________________________________________________________________________________\n",
      " Layer (type)                   Output Shape         Param #     Connected to                     \n",
      "==================================================================================================\n",
      " input_6 (InputLayer)           [(None, 40, 2048)]   0           []                               \n",
      "                                                                                                  \n",
      " input_7 (InputLayer)           [(None, 40)]         0           []                               \n",
      "                                                                                                  \n",
      " gru (GRU)                      (None, 40, 16)       99168       ['input_6[0][0]',                \n",
      "                                                                  'input_7[0][0]']                \n",
      "                                                                                                  \n",
      " gru_1 (GRU)                    (None, 8)            624         ['gru[0][0]']                    \n",
      "                                                                                                  \n",
      " dropout_1 (Dropout)            (None, 8)            0           ['gru_1[0][0]']                  \n",
      "                                                                                                  \n",
      " dense_3 (Dense)                (None, 8)            72          ['dropout_1[0][0]']              \n",
      "                                                                                                  \n",
      " dense_4 (Dense)                (None, 4)            36          ['dense_3[0][0]']                \n",
      "                                                                                                  \n",
      "==================================================================================================\n",
      "Total params: 99,900\n",
      "Trainable params: 99,900\n",
      "Non-trainable params: 0\n",
      "__________________________________________________________________________________________________\n"
     ]
    }
   ],
   "source": [
    "def get_sequence_model():\n",
    "    \n",
    "    frame_features_input = keras.Input((MAX_SEQ_LENGTH_RNN, NUM_FEATURES_RNN))\n",
    "    mask_input = keras.Input((MAX_SEQ_LENGTH_RNN,), dtype=\"bool\")\n",
    "\n",
    "    # Refer to the following tutorial to understand the significance of using `mask`:\n",
    "    # https://keras.io/api/layers/recurrent_layers/gru/\n",
    "    x = keras.layers.GRU(16, return_sequences=True)(\n",
    "        frame_features_input, mask=mask_input\n",
    "    )\n",
    "    x = keras.layers.GRU(8)(x)\n",
    "    x = keras.layers.Dropout(0.4)(x)\n",
    "    x = keras.layers.Dense(8, activation=\"relu\")(x)\n",
    "    output = keras.layers.Dense(CLASSES, activation=\"softmax\")(x)\n",
    "\n",
    "    rnn_model = keras.Model([frame_features_input, mask_input], output)\n",
    "\n",
    "    rnn_model.compile(\n",
    "        loss=\"sparse_categorical_crossentropy\", optimizer=\"adam\", metrics=[\"accuracy\"]\n",
    "    )\n",
    "    return rnn_model\n",
    "\n",
    "def run_experiment():\n",
    "    filepath = f\"Model/GRU/video_classifier\"\n",
    "\n",
    "    seq_model = get_sequence_model()\n",
    "    seq_model.load_weights(filepath)\n",
    "    seq_model.summary()\n",
    "\n",
    "    return seq_model\n",
    "\n",
    "GRU_model = run_experiment()"
   ]
  },
  {
   "cell_type": "markdown",
   "metadata": {},
   "source": [
    "LSTM"
   ]
  },
  {
   "cell_type": "code",
   "execution_count": 8,
   "metadata": {},
   "outputs": [
    {
     "name": "stdout",
     "output_type": "stream",
     "text": [
      "Model: \"model_2\"\n",
      "__________________________________________________________________________________________________\n",
      " Layer (type)                   Output Shape         Param #     Connected to                     \n",
      "==================================================================================================\n",
      " input_8 (InputLayer)           [(None, 40, 2048)]   0           []                               \n",
      "                                                                                                  \n",
      " input_9 (InputLayer)           [(None, 40)]         0           []                               \n",
      "                                                                                                  \n",
      " lstm (LSTM)                    (None, 40, 16)       132160      ['input_8[0][0]',                \n",
      "                                                                  'input_9[0][0]']                \n",
      "                                                                                                  \n",
      " lstm_1 (LSTM)                  (None, 8)            800         ['lstm[0][0]']                   \n",
      "                                                                                                  \n",
      " dropout_2 (Dropout)            (None, 8)            0           ['lstm_1[0][0]']                 \n",
      "                                                                                                  \n",
      " dense_5 (Dense)                (None, 8)            72          ['dropout_2[0][0]']              \n",
      "                                                                                                  \n",
      " dense_6 (Dense)                (None, 4)            36          ['dense_5[0][0]']                \n",
      "                                                                                                  \n",
      "==================================================================================================\n",
      "Total params: 133,068\n",
      "Trainable params: 133,068\n",
      "Non-trainable params: 0\n",
      "__________________________________________________________________________________________________\n"
     ]
    }
   ],
   "source": [
    "def get_sequence_model():\n",
    "    frame_features_input = keras.Input((MAX_SEQ_LENGTH_RNN, NUM_FEATURES_RNN))\n",
    "    mask_input = keras.Input((MAX_SEQ_LENGTH_RNN,), dtype=\"bool\")\n",
    "\n",
    "    x = keras.layers.LSTM(16, return_sequences=True)(\n",
    "        frame_features_input, mask=mask_input\n",
    "    )\n",
    "    x = keras.layers.LSTM(8)(x)\n",
    "    x = keras.layers.Dropout(0.3)(x)\n",
    "    x = keras.layers.Dense(8, activation=\"relu\")(x)\n",
    "    output = keras.layers.Dense(CLASSES, activation=\"softmax\")(x)\n",
    "\n",
    "    rnn_model = keras.Model([frame_features_input, mask_input], output)\n",
    "\n",
    "    rnn_model.compile(\n",
    "        loss=\"sparse_categorical_crossentropy\", optimizer=\"adam\", metrics=[\"accuracy\"]\n",
    "    )\n",
    "    return rnn_model\n",
    "\n",
    "def run_experiment():\n",
    "    filepath = f\"Model/LSTM/video_classifier\"\n",
    "\n",
    "    seq_model = get_sequence_model()\n",
    "    seq_model.load_weights(filepath)\n",
    "    seq_model.summary()\n",
    "\n",
    "    return seq_model\n",
    "\n",
    "LSTM_model = run_experiment()"
   ]
  },
  {
   "cell_type": "markdown",
   "metadata": {},
   "source": [
    "Inference"
   ]
  },
  {
   "cell_type": "code",
   "execution_count": 9,
   "metadata": {},
   "outputs": [],
   "source": [
    "def get_type(index):\n",
    "    if (index == 0):\n",
    "        return feature_extractor_TRANSFORMER, MAX_SEQ_LENGTH_TRANSFORM, NUM_FEATURES_TRANSFORM\n",
    "    if (index == 1 or index == 2):\n",
    "        return feature_extractor_RNN, MAX_SEQ_LENGTH_RNN, NUM_FEATURES_RNN\n",
    "    \n",
    "def get_model(index):\n",
    "    if (index == 0):\n",
    "        return TRANSFORMER_model\n",
    "    if (index == 1):\n",
    "        return GRU_model\n",
    "    if (index == 2):\n",
    "        return LSTM_model\n",
    "    \n",
    "def get_model_name(index):\n",
    "    if (index == 0):\n",
    "        return \"TRANSFORMER\"\n",
    "    if (index == 1):\n",
    "        return \"GRU\"\n",
    "    if (index == 2):\n",
    "        return \"LSTM\""
   ]
  },
  {
   "cell_type": "code",
   "execution_count": 12,
   "metadata": {},
   "outputs": [],
   "source": [
    "def prepare_single_video(frames, index):\n",
    "    feature_extractor, max_seq_length, num_features = get_type(index)\n",
    "    frame_features = np.zeros(shape=(1, max_seq_length, num_features), dtype=\"float32\")\n",
    "    frame_mask = np.zeros(shape=(1, max_seq_length,), dtype=\"bool\")\n",
    "\n",
    "    if len(frames) < max_seq_length:\n",
    "        diff = max_seq_length - len(frames)\n",
    "        padding = np.zeros((diff, IMG_SIZE, IMG_SIZE, 3))\n",
    "        frames = np.concatenate(frames, padding)\n",
    "\n",
    "    frames = frames[None, ...]\n",
    "\n",
    "    for i, batch in enumerate(frames):\n",
    "        video_length = batch.shape[0]\n",
    "        length = min(max_seq_length, video_length)\n",
    "        for j in range(length):\n",
    "            if np.mean(batch[j, :]) > 0.0:\n",
    "                frame_features[i, j, :] = feature_extractor.predict(batch[None, j, :], verbose=0)\n",
    "            else:\n",
    "                frame_features[i, j, :] = 0.0\n",
    "        frame_mask[i, :length] = 1\n",
    "\n",
    "    return frame_features, frame_mask\n",
    "\n",
    "\n",
    "def predict_action(path, index):\n",
    "\n",
    "    model = get_model(index)\n",
    "\n",
    "    class_vocab = np.arange(CLASSES)\n",
    "\n",
    "    frames = load_video(path)\n",
    "    \n",
    "    frame_features, frame_mask = prepare_single_video(frames, index)\n",
    "\n",
    "    if (index == 0):\n",
    "        probabilities = model.predict(frame_features)[0]\n",
    "    if (index == 1 or index == 2):    \n",
    "        probabilities = model.predict([frame_features, frame_mask])[0]\n",
    "        \n",
    "    total_probabilities = [\"\" for x in range(CLASSES)]\n",
    "    j = 0\n",
    "    for i in np.argsort(probabilities)[::-1]:\n",
    "        total_probabilities[j] = f\"{class_vocab[i]}: {probabilities[i] * 100:5.2f}%\"\n",
    "        print(total_probabilities[j])\n",
    "        j = j + 1\n",
    "    return total_probabilities\n",
    "\n",
    "def predict_actions(path):\n",
    "\n",
    "    class_vocab = np.arange(CLASSES)\n",
    "\n",
    "    frames = load_video(path)\n",
    "    \n",
    "    print(class_vocab)\n",
    "    for i in range(4):\n",
    "        \n",
    "        if (i < 2):\n",
    "            frame_features, frame_mask = prepare_single_video(frames, i)\n",
    "\n",
    "        model = get_model(i)\n",
    "        if (i == 0):\n",
    "            probabilities = model.predict(frame_features)[0]\n",
    "        if (i == 1 and i == 2):\n",
    "            probabilities = model.predict([frame_features, frame_mask])[0]\n",
    "\n",
    "        print(get_model_name(i))        \n",
    "        print(probabilities)\n",
    "        for i in np.argsort(probabilities)[::-1]:\n",
    "            print(f\"  {class_vocab[i]}: {probabilities[i] * 100:5.2f}%\")"
   ]
  },
  {
   "cell_type": "code",
   "execution_count": 14,
   "metadata": {},
   "outputs": [
    {
     "name": "stdout",
     "output_type": "stream",
     "text": [
      "TRANSFORMER:\n",
      "1/1 [==============================] - 0s 19ms/step\n",
      "3: 83.86%\n",
      "0:  9.90%\n",
      "1:  3.78%\n",
      "2:  2.46%\n",
      "GRU:\n",
      "1/1 [==============================] - 0s 19ms/step\n",
      "3: 56.23%\n",
      "2: 21.21%\n",
      "1: 14.22%\n",
      "0:  8.34%\n",
      "LSTM:\n",
      "1/1 [==============================] - 0s 20ms/step\n",
      "0: 85.77%\n",
      "1:  9.14%\n",
      "3:  3.67%\n",
      "2:  1.42%\n"
     ]
    },
    {
     "data": {
      "text/plain": [
       "['0: 85.77%', '1:  9.14%', '3:  3.67%', '2:  1.42%']"
      ]
     },
     "execution_count": 14,
     "metadata": {},
     "output_type": "execute_result"
    }
   ],
   "source": [
    "test_video = f\"D://Facultad//PPS//Proyecto Ecografia//Noviembre2020//PAC16//POST.mov\"\n",
    "\n",
    "#print(\"TRANSFORMER:\")\n",
    "#predict_action(test_video, 0)\n",
    "print(\"GRU:\")\n",
    "predict_action(test_video, 1)\n",
    "print(\"LSTM:\")\n",
    "predict_action(test_video, 2)"
   ]
  },
  {
   "cell_type": "code",
   "execution_count": 26,
   "metadata": {},
   "outputs": [
    {
     "name": "stdout",
     "output_type": "stream",
     "text": [
      "[0 1 2 3]\n",
      "1/1 [==============================] - 0s 19ms/step\n",
      "TRANSFORMER\n",
      "[0.00584809 0.10766613 0.0112304  0.8752554 ]\n",
      "  3: 87.53%\n",
      "  1: 10.77%\n",
      "  2:  1.12%\n",
      "  0:  0.58%\n",
      "GRU\n",
      "[0.00584809 0.10766613 0.0112304  0.8752554 ]\n",
      "  3: 87.53%\n",
      "  1: 10.77%\n",
      "  2:  1.12%\n",
      "  0:  0.58%\n",
      "LSTM\n",
      "[0.00584809 0.10766613 0.0112304  0.8752554 ]\n",
      "  3: 87.53%\n",
      "  1: 10.77%\n",
      "  2:  1.12%\n",
      "  0:  0.58%\n",
      "1/1 [==============================] - 0s 16ms/step\n",
      "Dense\n",
      "[0.03166831 0.6536658  0.01988611 0.29477978]\n",
      "  1: 65.37%\n",
      "  3: 29.48%\n",
      "  0:  3.17%\n",
      "  2:  1.99%\n"
     ]
    }
   ],
   "source": [
    "test_video = f\"D://Facultad//PPS//Proyecto Ecografia//Noviembre2020//PAC14//POST.mov\"\n",
    "\n",
    "predict_actions(test_video)"
   ]
  },
  {
   "cell_type": "code",
   "execution_count": 95,
   "metadata": {},
   "outputs": [
    {
     "data": {
      "text/html": [
       "<div>\n",
       "<style scoped>\n",
       "    .dataframe tbody tr th:only-of-type {\n",
       "        vertical-align: middle;\n",
       "    }\n",
       "\n",
       "    .dataframe tbody tr th {\n",
       "        vertical-align: top;\n",
       "    }\n",
       "\n",
       "    .dataframe thead th {\n",
       "        text-align: right;\n",
       "    }\n",
       "</style>\n",
       "<table border=\"1\" class=\"dataframe\">\n",
       "  <thead>\n",
       "    <tr style=\"text-align: right;\">\n",
       "      <th></th>\n",
       "      <th>Direccion</th>\n",
       "      <th>Target Transformer</th>\n",
       "      <th>Target GRU</th>\n",
       "      <th>Target LSTM</th>\n",
       "    </tr>\n",
       "  </thead>\n",
       "  <tbody>\n",
       "  </tbody>\n",
       "</table>\n",
       "</div>"
      ],
      "text/plain": [
       "Empty DataFrame\n",
       "Columns: [Direccion, Target Transformer, Target GRU , Target LSTM]\n",
       "Index: []"
      ]
     },
     "metadata": {},
     "output_type": "display_data"
    },
    {
     "name": "stdout",
     "output_type": "stream",
     "text": [
      "1/1 [==============================] - 0s 20ms/step\n",
      "3: 93.56%\n",
      "0:  3.06%\n",
      "1:  2.12%\n",
      "2:  1.27%\n",
      "1/1 [==============================] - 0s 20ms/step\n",
      "3: 56.54%\n",
      "2: 21.94%\n",
      "1: 12.69%\n",
      "0:  8.84%\n",
      "1/1 [==============================] - 0s 22ms/step\n",
      "3: 68.90%\n",
      "1: 22.90%\n",
      "0:  6.21%\n",
      "2:  1.99%\n"
     ]
    },
    {
     "name": "stderr",
     "output_type": "stream",
     "text": [
      "C:\\Users\\Francisco\\AppData\\Local\\Temp\\ipykernel_7888\\1888577245.py:20: FutureWarning: The frame.append method is deprecated and will be removed from pandas in a future version. Use pandas.concat instead.\n",
      "  df = df.append(nueva_fila, ignore_index=True)\n"
     ]
    },
    {
     "name": "stdout",
     "output_type": "stream",
     "text": [
      "1/1 [==============================] - 0s 24ms/step\n",
      "3: 95.47%\n",
      "1:  3.28%\n",
      "0:  0.85%\n",
      "2:  0.40%\n",
      "1/1 [==============================] - 0s 21ms/step\n",
      "3: 69.31%\n",
      "2: 20.94%\n",
      "1:  6.98%\n",
      "0:  2.77%\n",
      "1/1 [==============================] - 0s 25ms/step\n",
      "3: 68.96%\n",
      "1: 22.67%\n",
      "0:  6.28%\n",
      "2:  2.08%\n"
     ]
    },
    {
     "name": "stderr",
     "output_type": "stream",
     "text": [
      "C:\\Users\\Francisco\\AppData\\Local\\Temp\\ipykernel_7888\\1888577245.py:20: FutureWarning: The frame.append method is deprecated and will be removed from pandas in a future version. Use pandas.concat instead.\n",
      "  df = df.append(nueva_fila, ignore_index=True)\n"
     ]
    },
    {
     "name": "stdout",
     "output_type": "stream",
     "text": [
      "1/1 [==============================] - 0s 21ms/step\n",
      "3: 80.83%\n",
      "1: 14.20%\n",
      "0:  4.38%\n",
      "2:  0.59%\n",
      "1/1 [==============================] - 0s 19ms/step\n",
      "3: 69.17%\n",
      "2: 21.01%\n",
      "1:  7.10%\n",
      "0:  2.72%\n",
      "1/1 [==============================] - 0s 19ms/step\n",
      "3: 69.01%\n",
      "1: 22.82%\n",
      "0:  6.19%\n",
      "2:  1.98%\n"
     ]
    },
    {
     "name": "stderr",
     "output_type": "stream",
     "text": [
      "C:\\Users\\Francisco\\AppData\\Local\\Temp\\ipykernel_7888\\1888577245.py:20: FutureWarning: The frame.append method is deprecated and will be removed from pandas in a future version. Use pandas.concat instead.\n",
      "  df = df.append(nueva_fila, ignore_index=True)\n"
     ]
    },
    {
     "name": "stdout",
     "output_type": "stream",
     "text": [
      "1/1 [==============================] - 0s 19ms/step\n",
      "3: 73.53%\n",
      "1: 19.78%\n",
      "2:  4.92%\n",
      "0:  1.78%\n",
      "1/1 [==============================] - 0s 19ms/step\n",
      "3: 69.90%\n",
      "2: 20.84%\n",
      "1:  6.76%\n",
      "0:  2.50%\n",
      "1/1 [==============================] - 0s 21ms/step\n",
      "3: 64.33%\n",
      "1: 24.66%\n",
      "0:  7.86%\n",
      "2:  3.14%\n"
     ]
    },
    {
     "name": "stderr",
     "output_type": "stream",
     "text": [
      "C:\\Users\\Francisco\\AppData\\Local\\Temp\\ipykernel_7888\\1888577245.py:20: FutureWarning: The frame.append method is deprecated and will be removed from pandas in a future version. Use pandas.concat instead.\n",
      "  df = df.append(nueva_fila, ignore_index=True)\n"
     ]
    },
    {
     "name": "stdout",
     "output_type": "stream",
     "text": [
      "1/1 [==============================] - 0s 27ms/step\n",
      "3: 80.83%\n",
      "1: 14.20%\n",
      "0:  4.38%\n",
      "2:  0.59%\n",
      "1/1 [==============================] - 0s 20ms/step\n",
      "3: 69.17%\n",
      "2: 21.01%\n",
      "1:  7.10%\n",
      "0:  2.72%\n",
      "1/1 [==============================] - 0s 20ms/step\n",
      "3: 69.01%\n",
      "1: 22.82%\n",
      "0:  6.19%\n",
      "2:  1.98%\n"
     ]
    },
    {
     "name": "stderr",
     "output_type": "stream",
     "text": [
      "C:\\Users\\Francisco\\AppData\\Local\\Temp\\ipykernel_7888\\1888577245.py:20: FutureWarning: The frame.append method is deprecated and will be removed from pandas in a future version. Use pandas.concat instead.\n",
      "  df = df.append(nueva_fila, ignore_index=True)\n"
     ]
    },
    {
     "name": "stdout",
     "output_type": "stream",
     "text": [
      "1/1 [==============================] - 0s 25ms/step\n",
      "3: 73.53%\n",
      "1: 19.78%\n",
      "2:  4.92%\n",
      "0:  1.78%\n",
      "1/1 [==============================] - 0s 20ms/step\n",
      "3: 69.90%\n",
      "2: 20.84%\n",
      "1:  6.76%\n",
      "0:  2.50%\n",
      "1/1 [==============================] - 0s 26ms/step\n",
      "3: 64.33%\n",
      "1: 24.66%\n",
      "0:  7.86%\n",
      "2:  3.14%\n"
     ]
    },
    {
     "name": "stderr",
     "output_type": "stream",
     "text": [
      "C:\\Users\\Francisco\\AppData\\Local\\Temp\\ipykernel_7888\\1888577245.py:20: FutureWarning: The frame.append method is deprecated and will be removed from pandas in a future version. Use pandas.concat instead.\n",
      "  df = df.append(nueva_fila, ignore_index=True)\n"
     ]
    },
    {
     "name": "stdout",
     "output_type": "stream",
     "text": [
      "1/1 [==============================] - 0s 19ms/step\n",
      "3: 90.13%\n",
      "1:  7.27%\n",
      "2:  1.42%\n",
      "0:  1.18%\n",
      "1/1 [==============================] - 0s 19ms/step\n",
      "3: 50.15%\n",
      "2: 21.40%\n",
      "0: 14.90%\n",
      "1: 13.55%\n",
      "1/1 [==============================] - 0s 20ms/step\n",
      "3: 30.57%\n",
      "2: 25.62%\n",
      "0: 23.54%\n",
      "1: 20.26%\n"
     ]
    },
    {
     "name": "stderr",
     "output_type": "stream",
     "text": [
      "C:\\Users\\Francisco\\AppData\\Local\\Temp\\ipykernel_7888\\1888577245.py:20: FutureWarning: The frame.append method is deprecated and will be removed from pandas in a future version. Use pandas.concat instead.\n",
      "  df = df.append(nueva_fila, ignore_index=True)\n"
     ]
    },
    {
     "name": "stdout",
     "output_type": "stream",
     "text": [
      "1/1 [==============================] - 0s 20ms/step\n",
      "3: 92.65%\n",
      "1:  4.77%\n",
      "0:  1.31%\n",
      "2:  1.27%\n",
      "1/1 [==============================] - 0s 22ms/step\n",
      "3: 59.97%\n",
      "2: 21.06%\n",
      "1: 12.22%\n",
      "0:  6.76%\n",
      "1/1 [==============================] - 0s 21ms/step\n",
      "3: 56.42%\n",
      "1: 23.16%\n",
      "0: 12.49%\n",
      "2:  7.94%\n"
     ]
    },
    {
     "name": "stderr",
     "output_type": "stream",
     "text": [
      "C:\\Users\\Francisco\\AppData\\Local\\Temp\\ipykernel_7888\\1888577245.py:20: FutureWarning: The frame.append method is deprecated and will be removed from pandas in a future version. Use pandas.concat instead.\n",
      "  df = df.append(nueva_fila, ignore_index=True)\n"
     ]
    },
    {
     "name": "stdout",
     "output_type": "stream",
     "text": [
      "1/1 [==============================] - 0s 19ms/step\n",
      "3: 84.07%\n",
      "1: 12.46%\n",
      "2:  2.78%\n",
      "0:  0.69%\n",
      "1/1 [==============================] - 0s 22ms/step\n",
      "3: 68.47%\n",
      "2: 21.16%\n",
      "1:  7.43%\n",
      "0:  2.95%\n",
      "1/1 [==============================] - 0s 20ms/step\n",
      "3: 67.06%\n",
      "1: 23.56%\n",
      "0:  6.91%\n",
      "2:  2.47%\n"
     ]
    },
    {
     "name": "stderr",
     "output_type": "stream",
     "text": [
      "C:\\Users\\Francisco\\AppData\\Local\\Temp\\ipykernel_7888\\1888577245.py:20: FutureWarning: The frame.append method is deprecated and will be removed from pandas in a future version. Use pandas.concat instead.\n",
      "  df = df.append(nueva_fila, ignore_index=True)\n"
     ]
    },
    {
     "name": "stdout",
     "output_type": "stream",
     "text": [
      "1/1 [==============================] - 0s 20ms/step\n",
      "3: 96.84%\n",
      "1:  2.16%\n",
      "2:  0.58%\n",
      "0:  0.42%\n",
      "1/1 [==============================] - 0s 19ms/step\n",
      "3: 52.79%\n",
      "2: 20.86%\n",
      "1: 15.10%\n",
      "0: 11.25%\n",
      "1/1 [==============================] - 0s 23ms/step\n",
      "3: 50.65%\n",
      "1: 22.27%\n",
      "0: 15.44%\n",
      "2: 11.64%\n"
     ]
    },
    {
     "name": "stderr",
     "output_type": "stream",
     "text": [
      "C:\\Users\\Francisco\\AppData\\Local\\Temp\\ipykernel_7888\\1888577245.py:20: FutureWarning: The frame.append method is deprecated and will be removed from pandas in a future version. Use pandas.concat instead.\n",
      "  df = df.append(nueva_fila, ignore_index=True)\n"
     ]
    },
    {
     "name": "stdout",
     "output_type": "stream",
     "text": [
      "1/1 [==============================] - 0s 20ms/step\n",
      "3: 84.52%\n",
      "1: 15.13%\n",
      "2:  0.24%\n",
      "0:  0.11%\n",
      "1/1 [==============================] - 0s 23ms/step\n",
      "3: 57.94%\n",
      "2: 20.96%\n",
      "1: 13.76%\n",
      "0:  7.34%\n",
      "1/1 [==============================] - 0s 22ms/step\n",
      "3: 53.29%\n",
      "1: 21.20%\n",
      "0: 14.70%\n",
      "2: 10.80%\n"
     ]
    },
    {
     "name": "stderr",
     "output_type": "stream",
     "text": [
      "C:\\Users\\Francisco\\AppData\\Local\\Temp\\ipykernel_7888\\1888577245.py:20: FutureWarning: The frame.append method is deprecated and will be removed from pandas in a future version. Use pandas.concat instead.\n",
      "  df = df.append(nueva_fila, ignore_index=True)\n"
     ]
    },
    {
     "name": "stdout",
     "output_type": "stream",
     "text": [
      "1/1 [==============================] - 0s 21ms/step\n",
      "3: 86.55%\n",
      "0:  8.41%\n",
      "1:  3.55%\n",
      "2:  1.49%\n",
      "1/1 [==============================] - 0s 28ms/step\n",
      "3: 38.13%\n",
      "0: 21.90%\n",
      "1: 20.92%\n",
      "2: 19.05%\n",
      "1/1 [==============================] - 0s 23ms/step\n",
      "3: 49.76%\n",
      "1: 21.80%\n",
      "0: 15.96%\n",
      "2: 12.48%\n"
     ]
    },
    {
     "name": "stderr",
     "output_type": "stream",
     "text": [
      "C:\\Users\\Francisco\\AppData\\Local\\Temp\\ipykernel_7888\\1888577245.py:20: FutureWarning: The frame.append method is deprecated and will be removed from pandas in a future version. Use pandas.concat instead.\n",
      "  df = df.append(nueva_fila, ignore_index=True)\n"
     ]
    },
    {
     "name": "stdout",
     "output_type": "stream",
     "text": [
      "1/1 [==============================] - 0s 22ms/step\n",
      "3: 82.18%\n",
      "0: 13.68%\n",
      "1:  2.73%\n",
      "2:  1.41%\n",
      "1/1 [==============================] - 0s 27ms/step\n",
      "3: 65.73%\n",
      "2: 21.40%\n",
      "1:  8.90%\n",
      "0:  3.98%\n",
      "1/1 [==============================] - 0s 21ms/step\n",
      "3: 68.35%\n",
      "1: 23.12%\n",
      "0:  6.40%\n",
      "2:  2.13%\n"
     ]
    },
    {
     "name": "stderr",
     "output_type": "stream",
     "text": [
      "C:\\Users\\Francisco\\AppData\\Local\\Temp\\ipykernel_7888\\1888577245.py:20: FutureWarning: The frame.append method is deprecated and will be removed from pandas in a future version. Use pandas.concat instead.\n",
      "  df = df.append(nueva_fila, ignore_index=True)\n"
     ]
    },
    {
     "name": "stdout",
     "output_type": "stream",
     "text": [
      "1/1 [==============================] - 0s 20ms/step\n",
      "0: 86.54%\n",
      "3: 12.60%\n",
      "1:  0.59%\n",
      "2:  0.28%\n",
      "1/1 [==============================] - 0s 21ms/step\n",
      "3: 60.85%\n",
      "2: 21.60%\n",
      "1: 11.03%\n",
      "0:  6.52%\n",
      "1/1 [==============================] - 0s 20ms/step\n",
      "3: 61.73%\n",
      "1: 21.43%\n",
      "0: 10.72%\n",
      "2:  6.12%\n"
     ]
    },
    {
     "name": "stderr",
     "output_type": "stream",
     "text": [
      "C:\\Users\\Francisco\\AppData\\Local\\Temp\\ipykernel_7888\\1888577245.py:20: FutureWarning: The frame.append method is deprecated and will be removed from pandas in a future version. Use pandas.concat instead.\n",
      "  df = df.append(nueva_fila, ignore_index=True)\n"
     ]
    },
    {
     "name": "stdout",
     "output_type": "stream",
     "text": [
      "1/1 [==============================] - 0s 19ms/step\n",
      "3: 86.15%\n",
      "1: 12.12%\n",
      "2:  1.03%\n",
      "0:  0.70%\n",
      "1/1 [==============================] - 0s 19ms/step\n",
      "3: 67.28%\n",
      "2: 21.33%\n",
      "1:  8.03%\n",
      "0:  3.36%\n",
      "1/1 [==============================] - 0s 26ms/step\n",
      "3: 66.74%\n",
      "1: 23.73%\n",
      "0:  7.01%\n",
      "2:  2.52%\n"
     ]
    },
    {
     "name": "stderr",
     "output_type": "stream",
     "text": [
      "C:\\Users\\Francisco\\AppData\\Local\\Temp\\ipykernel_7888\\1888577245.py:20: FutureWarning: The frame.append method is deprecated and will be removed from pandas in a future version. Use pandas.concat instead.\n",
      "  df = df.append(nueva_fila, ignore_index=True)\n"
     ]
    },
    {
     "name": "stdout",
     "output_type": "stream",
     "text": [
      "1/1 [==============================] - 0s 21ms/step\n",
      "3: 85.15%\n",
      "1: 13.55%\n",
      "2:  0.80%\n",
      "0:  0.50%\n",
      "1/1 [==============================] - 0s 23ms/step\n",
      "3: 61.02%\n",
      "2: 21.25%\n",
      "1: 11.94%\n",
      "0:  5.79%\n",
      "1/1 [==============================] - 0s 22ms/step\n",
      "3: 64.65%\n",
      "1: 24.93%\n",
      "0:  7.56%\n",
      "2:  2.86%\n"
     ]
    },
    {
     "name": "stderr",
     "output_type": "stream",
     "text": [
      "C:\\Users\\Francisco\\AppData\\Local\\Temp\\ipykernel_7888\\1888577245.py:20: FutureWarning: The frame.append method is deprecated and will be removed from pandas in a future version. Use pandas.concat instead.\n",
      "  df = df.append(nueva_fila, ignore_index=True)\n"
     ]
    },
    {
     "name": "stdout",
     "output_type": "stream",
     "text": [
      "1/1 [==============================] - 0s 22ms/step\n",
      "0: 66.48%\n",
      "3: 29.73%\n",
      "1:  2.09%\n",
      "2:  1.70%\n",
      "1/1 [==============================] - 0s 23ms/step\n",
      "3: 70.45%\n",
      "2: 20.69%\n",
      "1:  6.46%\n",
      "0:  2.40%\n",
      "1/1 [==============================] - 0s 29ms/step\n",
      "3: 68.84%\n",
      "1: 22.96%\n",
      "0:  6.19%\n",
      "2:  2.00%\n"
     ]
    },
    {
     "name": "stderr",
     "output_type": "stream",
     "text": [
      "C:\\Users\\Francisco\\AppData\\Local\\Temp\\ipykernel_7888\\1888577245.py:20: FutureWarning: The frame.append method is deprecated and will be removed from pandas in a future version. Use pandas.concat instead.\n",
      "  df = df.append(nueva_fila, ignore_index=True)\n"
     ]
    },
    {
     "name": "stdout",
     "output_type": "stream",
     "text": [
      "1/1 [==============================] - 0s 24ms/step\n",
      "3: 84.26%\n",
      "0:  7.70%\n",
      "1:  6.97%\n",
      "2:  1.07%\n",
      "1/1 [==============================] - 0s 20ms/step\n",
      "3: 70.99%\n",
      "2: 20.83%\n",
      "1:  6.02%\n",
      "0:  2.15%\n",
      "1/1 [==============================] - 0s 21ms/step\n",
      "3: 69.32%\n",
      "1: 22.76%\n",
      "0:  6.03%\n",
      "2:  1.89%\n"
     ]
    },
    {
     "name": "stderr",
     "output_type": "stream",
     "text": [
      "C:\\Users\\Francisco\\AppData\\Local\\Temp\\ipykernel_7888\\1888577245.py:20: FutureWarning: The frame.append method is deprecated and will be removed from pandas in a future version. Use pandas.concat instead.\n",
      "  df = df.append(nueva_fila, ignore_index=True)\n"
     ]
    },
    {
     "name": "stdout",
     "output_type": "stream",
     "text": [
      "1/1 [==============================] - 0s 24ms/step\n",
      "3: 87.83%\n",
      "1:  8.21%\n",
      "2:  3.00%\n",
      "0:  0.96%\n",
      "1/1 [==============================] - 0s 29ms/step\n",
      "3: 52.51%\n",
      "2: 20.30%\n",
      "1: 17.00%\n",
      "0: 10.20%\n",
      "1/1 [==============================] - 0s 20ms/step\n",
      "3: 65.62%\n",
      "1: 23.62%\n",
      "0:  7.74%\n",
      "2:  3.02%\n"
     ]
    },
    {
     "name": "stderr",
     "output_type": "stream",
     "text": [
      "C:\\Users\\Francisco\\AppData\\Local\\Temp\\ipykernel_7888\\1888577245.py:20: FutureWarning: The frame.append method is deprecated and will be removed from pandas in a future version. Use pandas.concat instead.\n",
      "  df = df.append(nueva_fila, ignore_index=True)\n"
     ]
    },
    {
     "name": "stdout",
     "output_type": "stream",
     "text": [
      "1/1 [==============================] - 0s 20ms/step\n",
      "3: 63.70%\n",
      "1: 34.10%\n",
      "2:  1.78%\n",
      "0:  0.41%\n",
      "1/1 [==============================] - 0s 22ms/step\n",
      "3: 44.66%\n",
      "1: 20.45%\n",
      "2: 18.98%\n",
      "0: 15.91%\n",
      "1/1 [==============================] - 0s 21ms/step\n",
      "3: 64.42%\n",
      "1: 24.46%\n",
      "0:  7.93%\n",
      "2:  3.19%\n"
     ]
    },
    {
     "name": "stderr",
     "output_type": "stream",
     "text": [
      "C:\\Users\\Francisco\\AppData\\Local\\Temp\\ipykernel_7888\\1888577245.py:20: FutureWarning: The frame.append method is deprecated and will be removed from pandas in a future version. Use pandas.concat instead.\n",
      "  df = df.append(nueva_fila, ignore_index=True)\n"
     ]
    },
    {
     "name": "stdout",
     "output_type": "stream",
     "text": [
      "1/1 [==============================] - 0s 21ms/step\n",
      "3: 96.61%\n",
      "1:  3.08%\n",
      "2:  0.19%\n",
      "0:  0.12%\n",
      "1/1 [==============================] - 0s 20ms/step\n",
      "3: 68.10%\n",
      "2: 21.27%\n",
      "1:  7.39%\n",
      "0:  3.24%\n",
      "1/1 [==============================] - 0s 25ms/step\n",
      "3: 67.06%\n",
      "1: 23.60%\n",
      "0:  6.88%\n",
      "2:  2.45%\n"
     ]
    },
    {
     "name": "stderr",
     "output_type": "stream",
     "text": [
      "C:\\Users\\Francisco\\AppData\\Local\\Temp\\ipykernel_7888\\1888577245.py:20: FutureWarning: The frame.append method is deprecated and will be removed from pandas in a future version. Use pandas.concat instead.\n",
      "  df = df.append(nueva_fila, ignore_index=True)\n"
     ]
    },
    {
     "name": "stdout",
     "output_type": "stream",
     "text": [
      "1/1 [==============================] - 0s 24ms/step\n",
      "3: 92.29%\n",
      "1:  4.05%\n",
      "0:  2.64%\n",
      "2:  1.02%\n",
      "1/1 [==============================] - 0s 22ms/step\n",
      "3: 67.11%\n",
      "2: 21.26%\n",
      "1:  8.18%\n",
      "0:  3.46%\n",
      "1/1 [==============================] - 0s 26ms/step\n",
      "3: 68.31%\n",
      "1: 23.19%\n",
      "0:  6.37%\n",
      "2:  2.13%\n"
     ]
    },
    {
     "name": "stderr",
     "output_type": "stream",
     "text": [
      "C:\\Users\\Francisco\\AppData\\Local\\Temp\\ipykernel_7888\\1888577245.py:20: FutureWarning: The frame.append method is deprecated and will be removed from pandas in a future version. Use pandas.concat instead.\n",
      "  df = df.append(nueva_fila, ignore_index=True)\n"
     ]
    },
    {
     "name": "stdout",
     "output_type": "stream",
     "text": [
      "1/1 [==============================] - 0s 20ms/step\n",
      "3: 89.51%\n",
      "1:  6.08%\n",
      "0:  2.82%\n",
      "2:  1.60%\n",
      "1/1 [==============================] - 0s 21ms/step\n",
      "3: 54.66%\n",
      "2: 21.65%\n",
      "1: 13.01%\n",
      "0: 10.67%\n",
      "1/1 [==============================] - 0s 26ms/step\n",
      "3: 61.56%\n",
      "1: 25.17%\n",
      "0:  9.14%\n",
      "2:  4.13%\n"
     ]
    },
    {
     "name": "stderr",
     "output_type": "stream",
     "text": [
      "C:\\Users\\Francisco\\AppData\\Local\\Temp\\ipykernel_7888\\1888577245.py:20: FutureWarning: The frame.append method is deprecated and will be removed from pandas in a future version. Use pandas.concat instead.\n",
      "  df = df.append(nueva_fila, ignore_index=True)\n"
     ]
    },
    {
     "name": "stdout",
     "output_type": "stream",
     "text": [
      "1/1 [==============================] - 0s 28ms/step\n",
      "0: 87.10%\n",
      "3: 12.01%\n",
      "1:  0.46%\n",
      "2:  0.43%\n",
      "1/1 [==============================] - 0s 23ms/step\n",
      "3: 40.70%\n",
      "0: 20.82%\n",
      "1: 19.37%\n",
      "2: 19.11%\n",
      "1/1 [==============================] - 0s 23ms/step\n",
      "3: 43.47%\n",
      "1: 20.67%\n",
      "0: 18.81%\n",
      "2: 17.05%\n"
     ]
    },
    {
     "name": "stderr",
     "output_type": "stream",
     "text": [
      "C:\\Users\\Francisco\\AppData\\Local\\Temp\\ipykernel_7888\\1888577245.py:20: FutureWarning: The frame.append method is deprecated and will be removed from pandas in a future version. Use pandas.concat instead.\n",
      "  df = df.append(nueva_fila, ignore_index=True)\n"
     ]
    },
    {
     "name": "stdout",
     "output_type": "stream",
     "text": [
      "1/1 [==============================] - 0s 22ms/step\n",
      "3: 63.62%\n",
      "1: 33.11%\n",
      "2:  2.97%\n",
      "0:  0.30%\n",
      "1/1 [==============================] - 0s 23ms/step\n",
      "3: 69.22%\n",
      "2: 21.13%\n",
      "1:  6.79%\n",
      "0:  2.86%\n",
      "1/1 [==============================] - 0s 26ms/step\n",
      "3: 35.01%\n",
      "1: 22.79%\n",
      "0: 21.67%\n",
      "2: 20.53%\n"
     ]
    },
    {
     "name": "stderr",
     "output_type": "stream",
     "text": [
      "C:\\Users\\Francisco\\AppData\\Local\\Temp\\ipykernel_7888\\1888577245.py:20: FutureWarning: The frame.append method is deprecated and will be removed from pandas in a future version. Use pandas.concat instead.\n",
      "  df = df.append(nueva_fila, ignore_index=True)\n"
     ]
    },
    {
     "name": "stdout",
     "output_type": "stream",
     "text": [
      "1/1 [==============================] - 0s 27ms/step\n",
      "3: 83.26%\n",
      "1: 15.00%\n",
      "2:  1.29%\n",
      "0:  0.44%\n",
      "1/1 [==============================] - 0s 21ms/step\n",
      "3: 68.54%\n",
      "2: 21.09%\n",
      "1:  7.10%\n",
      "0:  3.26%\n",
      "1/1 [==============================] - 0s 24ms/step\n",
      "3: 41.38%\n",
      "1: 20.42%\n",
      "0: 19.66%\n",
      "2: 18.54%\n"
     ]
    },
    {
     "name": "stderr",
     "output_type": "stream",
     "text": [
      "C:\\Users\\Francisco\\AppData\\Local\\Temp\\ipykernel_7888\\1888577245.py:20: FutureWarning: The frame.append method is deprecated and will be removed from pandas in a future version. Use pandas.concat instead.\n",
      "  df = df.append(nueva_fila, ignore_index=True)\n"
     ]
    },
    {
     "name": "stdout",
     "output_type": "stream",
     "text": [
      "1/1 [==============================] - 0s 22ms/step\n",
      "3: 87.53%\n",
      "1: 10.77%\n",
      "2:  1.12%\n",
      "0:  0.58%\n",
      "1/1 [==============================] - 0s 25ms/step\n",
      "3: 66.84%\n",
      "2: 21.69%\n",
      "1:  8.28%\n",
      "0:  3.18%\n",
      "1/1 [==============================] - 0s 22ms/step\n",
      "3: 64.74%\n",
      "1: 24.90%\n",
      "0:  7.53%\n",
      "2:  2.84%\n"
     ]
    },
    {
     "name": "stderr",
     "output_type": "stream",
     "text": [
      "C:\\Users\\Francisco\\AppData\\Local\\Temp\\ipykernel_7888\\1888577245.py:20: FutureWarning: The frame.append method is deprecated and will be removed from pandas in a future version. Use pandas.concat instead.\n",
      "  df = df.append(nueva_fila, ignore_index=True)\n"
     ]
    },
    {
     "name": "stdout",
     "output_type": "stream",
     "text": [
      "1/1 [==============================] - 0s 26ms/step\n",
      "3: 88.20%\n",
      "1:  8.04%\n",
      "0:  2.04%\n",
      "2:  1.71%\n",
      "1/1 [==============================] - 0s 25ms/step\n",
      "3: 67.77%\n",
      "2: 21.36%\n",
      "1:  7.59%\n",
      "0:  3.27%\n",
      "1/1 [==============================] - 0s 20ms/step\n",
      "3: 67.88%\n",
      "1: 23.50%\n",
      "0:  6.46%\n",
      "2:  2.16%\n"
     ]
    },
    {
     "name": "stderr",
     "output_type": "stream",
     "text": [
      "C:\\Users\\Francisco\\AppData\\Local\\Temp\\ipykernel_7888\\1888577245.py:20: FutureWarning: The frame.append method is deprecated and will be removed from pandas in a future version. Use pandas.concat instead.\n",
      "  df = df.append(nueva_fila, ignore_index=True)\n"
     ]
    },
    {
     "name": "stdout",
     "output_type": "stream",
     "text": [
      "1/1 [==============================] - 0s 20ms/step\n",
      "3: 47.81%\n",
      "0: 42.82%\n",
      "2:  5.16%\n",
      "1:  4.21%\n",
      "1/1 [==============================] - 0s 20ms/step\n",
      "3: 70.93%\n",
      "2: 20.60%\n",
      "1:  6.25%\n",
      "0:  2.21%\n",
      "1/1 [==============================] - 0s 19ms/step\n",
      "3: 68.60%\n",
      "1: 23.19%\n",
      "0:  6.21%\n",
      "2:  2.00%\n"
     ]
    },
    {
     "name": "stderr",
     "output_type": "stream",
     "text": [
      "C:\\Users\\Francisco\\AppData\\Local\\Temp\\ipykernel_7888\\1888577245.py:20: FutureWarning: The frame.append method is deprecated and will be removed from pandas in a future version. Use pandas.concat instead.\n",
      "  df = df.append(nueva_fila, ignore_index=True)\n"
     ]
    },
    {
     "name": "stdout",
     "output_type": "stream",
     "text": [
      "1/1 [==============================] - 0s 30ms/step\n",
      "3: 88.20%\n",
      "1:  8.04%\n",
      "0:  2.04%\n",
      "2:  1.71%\n",
      "1/1 [==============================] - 0s 24ms/step\n",
      "3: 67.77%\n",
      "2: 21.36%\n",
      "1:  7.59%\n",
      "0:  3.27%\n",
      "1/1 [==============================] - 0s 20ms/step\n",
      "3: 67.88%\n",
      "1: 23.50%\n",
      "0:  6.46%\n",
      "2:  2.16%\n"
     ]
    },
    {
     "name": "stderr",
     "output_type": "stream",
     "text": [
      "C:\\Users\\Francisco\\AppData\\Local\\Temp\\ipykernel_7888\\1888577245.py:20: FutureWarning: The frame.append method is deprecated and will be removed from pandas in a future version. Use pandas.concat instead.\n",
      "  df = df.append(nueva_fila, ignore_index=True)\n"
     ]
    },
    {
     "name": "stdout",
     "output_type": "stream",
     "text": [
      "1/1 [==============================] - 0s 22ms/step\n",
      "3: 83.86%\n",
      "0:  9.90%\n",
      "1:  3.78%\n",
      "2:  2.46%\n",
      "1/1 [==============================] - 0s 21ms/step\n",
      "3: 56.23%\n",
      "2: 21.21%\n",
      "1: 14.22%\n",
      "0:  8.34%\n",
      "1/1 [==============================] - 0s 22ms/step\n",
      "3: 31.18%\n",
      "2: 24.03%\n",
      "0: 23.15%\n",
      "1: 21.63%\n"
     ]
    },
    {
     "name": "stderr",
     "output_type": "stream",
     "text": [
      "C:\\Users\\Francisco\\AppData\\Local\\Temp\\ipykernel_7888\\1888577245.py:20: FutureWarning: The frame.append method is deprecated and will be removed from pandas in a future version. Use pandas.concat instead.\n",
      "  df = df.append(nueva_fila, ignore_index=True)\n"
     ]
    },
    {
     "name": "stdout",
     "output_type": "stream",
     "text": [
      "1/1 [==============================] - 0s 22ms/step\n",
      "3: 95.31%\n",
      "1:  2.23%\n",
      "0:  2.09%\n",
      "2:  0.37%\n",
      "1/1 [==============================] - 0s 24ms/step\n",
      "3: 61.84%\n",
      "2: 21.91%\n",
      "1:  9.49%\n",
      "0:  6.77%\n",
      "1/1 [==============================] - 0s 21ms/step\n",
      "3: 66.20%\n",
      "1: 23.17%\n",
      "0:  7.64%\n",
      "2:  2.99%\n"
     ]
    },
    {
     "name": "stderr",
     "output_type": "stream",
     "text": [
      "C:\\Users\\Francisco\\AppData\\Local\\Temp\\ipykernel_7888\\1888577245.py:20: FutureWarning: The frame.append method is deprecated and will be removed from pandas in a future version. Use pandas.concat instead.\n",
      "  df = df.append(nueva_fila, ignore_index=True)\n"
     ]
    },
    {
     "name": "stdout",
     "output_type": "stream",
     "text": [
      "1/1 [==============================] - 0s 25ms/step\n",
      "3: 51.92%\n",
      "1: 47.09%\n",
      "2:  0.90%\n",
      "0:  0.09%\n",
      "1/1 [==============================] - 0s 29ms/step\n",
      "3: 68.78%\n",
      "2: 21.34%\n",
      "1:  6.85%\n",
      "0:  3.03%\n",
      "1/1 [==============================] - 0s 20ms/step\n",
      "3: 36.79%\n",
      "1: 22.85%\n",
      "0: 20.98%\n",
      "2: 19.38%\n"
     ]
    },
    {
     "name": "stderr",
     "output_type": "stream",
     "text": [
      "C:\\Users\\Francisco\\AppData\\Local\\Temp\\ipykernel_7888\\1888577245.py:20: FutureWarning: The frame.append method is deprecated and will be removed from pandas in a future version. Use pandas.concat instead.\n",
      "  df = df.append(nueva_fila, ignore_index=True)\n"
     ]
    },
    {
     "name": "stdout",
     "output_type": "stream",
     "text": [
      "1/1 [==============================] - 0s 20ms/step\n",
      "3: 92.98%\n",
      "1:  4.66%\n",
      "0:  1.65%\n",
      "2:  0.71%\n",
      "1/1 [==============================] - 0s 23ms/step\n",
      "3: 50.68%\n",
      "2: 21.02%\n",
      "1: 14.43%\n",
      "0: 13.87%\n",
      "1/1 [==============================] - 0s 27ms/step\n",
      "3: 33.40%\n",
      "2: 23.37%\n",
      "0: 22.56%\n",
      "1: 20.68%\n"
     ]
    },
    {
     "name": "stderr",
     "output_type": "stream",
     "text": [
      "C:\\Users\\Francisco\\AppData\\Local\\Temp\\ipykernel_7888\\1888577245.py:20: FutureWarning: The frame.append method is deprecated and will be removed from pandas in a future version. Use pandas.concat instead.\n",
      "  df = df.append(nueva_fila, ignore_index=True)\n"
     ]
    },
    {
     "name": "stdout",
     "output_type": "stream",
     "text": [
      "1/1 [==============================] - 0s 21ms/step\n",
      "3: 87.28%\n",
      "1:  8.70%\n",
      "2:  3.22%\n",
      "0:  0.80%\n",
      "1/1 [==============================] - 0s 21ms/step\n",
      "3: 41.50%\n",
      "0: 19.80%\n",
      "1: 19.62%\n",
      "2: 19.08%\n",
      "1/1 [==============================] - 0s 21ms/step\n",
      "3: 48.46%\n",
      "1: 20.85%\n",
      "0: 16.76%\n",
      "2: 13.93%\n"
     ]
    },
    {
     "name": "stderr",
     "output_type": "stream",
     "text": [
      "C:\\Users\\Francisco\\AppData\\Local\\Temp\\ipykernel_7888\\1888577245.py:20: FutureWarning: The frame.append method is deprecated and will be removed from pandas in a future version. Use pandas.concat instead.\n",
      "  df = df.append(nueva_fila, ignore_index=True)\n"
     ]
    },
    {
     "name": "stdout",
     "output_type": "stream",
     "text": [
      "1/1 [==============================] - 0s 29ms/step\n",
      "3: 93.56%\n",
      "1:  4.59%\n",
      "0:  1.00%\n",
      "2:  0.86%\n",
      "1/1 [==============================] - 0s 27ms/step\n",
      "3: 60.06%\n",
      "2: 21.78%\n",
      "1: 10.55%\n",
      "0:  7.61%\n",
      "1/1 [==============================] - 0s 20ms/step\n",
      "3: 42.96%\n",
      "1: 20.07%\n",
      "0: 19.12%\n",
      "2: 17.86%\n"
     ]
    },
    {
     "name": "stderr",
     "output_type": "stream",
     "text": [
      "C:\\Users\\Francisco\\AppData\\Local\\Temp\\ipykernel_7888\\1888577245.py:20: FutureWarning: The frame.append method is deprecated and will be removed from pandas in a future version. Use pandas.concat instead.\n",
      "  df = df.append(nueva_fila, ignore_index=True)\n"
     ]
    },
    {
     "name": "stdout",
     "output_type": "stream",
     "text": [
      "1/1 [==============================] - 0s 20ms/step\n",
      "3: 88.36%\n",
      "0:  7.28%\n",
      "1:  3.56%\n",
      "2:  0.80%\n",
      "1/1 [==============================] - 0s 20ms/step\n",
      "3: 57.09%\n",
      "2: 20.96%\n",
      "1: 14.30%\n",
      "0:  7.65%\n",
      "1/1 [==============================] - 0s 21ms/step\n",
      "3: 59.24%\n",
      "1: 22.41%\n",
      "0: 11.53%\n",
      "2:  6.83%\n"
     ]
    },
    {
     "name": "stderr",
     "output_type": "stream",
     "text": [
      "C:\\Users\\Francisco\\AppData\\Local\\Temp\\ipykernel_7888\\1888577245.py:20: FutureWarning: The frame.append method is deprecated and will be removed from pandas in a future version. Use pandas.concat instead.\n",
      "  df = df.append(nueva_fila, ignore_index=True)\n"
     ]
    },
    {
     "name": "stdout",
     "output_type": "stream",
     "text": [
      "1/1 [==============================] - 0s 19ms/step\n",
      "3: 56.98%\n",
      "0: 39.64%\n",
      "1:  2.69%\n",
      "2:  0.69%\n",
      "1/1 [==============================] - 0s 30ms/step\n",
      "3: 54.29%\n",
      "2: 21.01%\n",
      "1: 14.05%\n",
      "0: 10.65%\n",
      "1/1 [==============================] - 0s 27ms/step\n",
      "3: 40.12%\n",
      "1: 20.22%\n",
      "0: 20.17%\n",
      "2: 19.49%\n"
     ]
    },
    {
     "name": "stderr",
     "output_type": "stream",
     "text": [
      "C:\\Users\\Francisco\\AppData\\Local\\Temp\\ipykernel_7888\\1888577245.py:20: FutureWarning: The frame.append method is deprecated and will be removed from pandas in a future version. Use pandas.concat instead.\n",
      "  df = df.append(nueva_fila, ignore_index=True)\n"
     ]
    },
    {
     "name": "stdout",
     "output_type": "stream",
     "text": [
      "1/1 [==============================] - 0s 19ms/step\n",
      "3: 97.75%\n",
      "1:  1.52%\n",
      "0:  0.40%\n",
      "2:  0.32%\n",
      "1/1 [==============================] - 0s 22ms/step\n",
      "3: 70.32%\n",
      "2: 20.76%\n",
      "1:  6.56%\n",
      "0:  2.37%\n",
      "1/1 [==============================] - 0s 21ms/step\n",
      "3: 69.36%\n",
      "1: 22.69%\n",
      "0:  6.05%\n",
      "2:  1.91%\n"
     ]
    },
    {
     "name": "stderr",
     "output_type": "stream",
     "text": [
      "C:\\Users\\Francisco\\AppData\\Local\\Temp\\ipykernel_7888\\1888577245.py:20: FutureWarning: The frame.append method is deprecated and will be removed from pandas in a future version. Use pandas.concat instead.\n",
      "  df = df.append(nueva_fila, ignore_index=True)\n"
     ]
    },
    {
     "name": "stdout",
     "output_type": "stream",
     "text": [
      "1/1 [==============================] - 0s 26ms/step\n",
      "3: 96.60%\n",
      "1:  2.70%\n",
      "0:  0.40%\n",
      "2:  0.30%\n",
      "1/1 [==============================] - 0s 28ms/step\n",
      "3: 69.02%\n",
      "2: 20.99%\n",
      "1:  7.15%\n",
      "0:  2.83%\n",
      "1/1 [==============================] - 0s 26ms/step\n",
      "3: 68.49%\n",
      "1: 23.06%\n",
      "0:  6.35%\n",
      "2:  2.10%\n"
     ]
    },
    {
     "name": "stderr",
     "output_type": "stream",
     "text": [
      "C:\\Users\\Francisco\\AppData\\Local\\Temp\\ipykernel_7888\\1888577245.py:20: FutureWarning: The frame.append method is deprecated and will be removed from pandas in a future version. Use pandas.concat instead.\n",
      "  df = df.append(nueva_fila, ignore_index=True)\n"
     ]
    },
    {
     "name": "stdout",
     "output_type": "stream",
     "text": [
      "1/1 [==============================] - 0s 24ms/step\n",
      "0: 66.48%\n",
      "3: 29.73%\n",
      "1:  2.09%\n",
      "2:  1.70%\n",
      "1/1 [==============================] - 0s 21ms/step\n",
      "3: 70.45%\n",
      "2: 20.69%\n",
      "1:  6.46%\n",
      "0:  2.40%\n",
      "1/1 [==============================] - 0s 22ms/step\n",
      "3: 68.84%\n",
      "1: 22.96%\n",
      "0:  6.19%\n",
      "2:  2.00%\n"
     ]
    },
    {
     "name": "stderr",
     "output_type": "stream",
     "text": [
      "C:\\Users\\Francisco\\AppData\\Local\\Temp\\ipykernel_7888\\1888577245.py:20: FutureWarning: The frame.append method is deprecated and will be removed from pandas in a future version. Use pandas.concat instead.\n",
      "  df = df.append(nueva_fila, ignore_index=True)\n"
     ]
    },
    {
     "name": "stdout",
     "output_type": "stream",
     "text": [
      "1/1 [==============================] - 0s 22ms/step\n",
      "3: 84.26%\n",
      "0:  7.70%\n",
      "1:  6.97%\n",
      "2:  1.07%\n",
      "1/1 [==============================] - 0s 27ms/step\n",
      "3: 70.99%\n",
      "2: 20.83%\n",
      "1:  6.02%\n",
      "0:  2.15%\n",
      "1/1 [==============================] - 0s 21ms/step\n",
      "3: 69.32%\n",
      "1: 22.76%\n",
      "0:  6.03%\n",
      "2:  1.89%\n"
     ]
    },
    {
     "name": "stderr",
     "output_type": "stream",
     "text": [
      "C:\\Users\\Francisco\\AppData\\Local\\Temp\\ipykernel_7888\\1888577245.py:20: FutureWarning: The frame.append method is deprecated and will be removed from pandas in a future version. Use pandas.concat instead.\n",
      "  df = df.append(nueva_fila, ignore_index=True)\n"
     ]
    },
    {
     "name": "stdout",
     "output_type": "stream",
     "text": [
      "1/1 [==============================] - 0s 20ms/step\n",
      "3: 86.23%\n",
      "0:  5.51%\n",
      "1:  5.28%\n",
      "2:  2.99%\n",
      "1/1 [==============================] - 0s 22ms/step\n",
      "3: 67.97%\n",
      "2: 21.16%\n",
      "1:  7.61%\n",
      "0:  3.26%\n",
      "1/1 [==============================] - 0s 23ms/step\n",
      "3: 67.78%\n",
      "1: 23.38%\n",
      "0:  6.58%\n",
      "2:  2.26%\n"
     ]
    },
    {
     "name": "stderr",
     "output_type": "stream",
     "text": [
      "C:\\Users\\Francisco\\AppData\\Local\\Temp\\ipykernel_7888\\1888577245.py:20: FutureWarning: The frame.append method is deprecated and will be removed from pandas in a future version. Use pandas.concat instead.\n",
      "  df = df.append(nueva_fila, ignore_index=True)\n"
     ]
    },
    {
     "name": "stdout",
     "output_type": "stream",
     "text": [
      "1/1 [==============================] - 0s 24ms/step\n",
      "3: 83.79%\n",
      "1:  9.31%\n",
      "0:  3.50%\n",
      "2:  3.40%\n",
      "1/1 [==============================] - 0s 20ms/step\n",
      "3: 67.67%\n",
      "2: 21.28%\n",
      "1:  7.60%\n",
      "0:  3.45%\n",
      "1/1 [==============================] - 0s 21ms/step\n",
      "3: 67.43%\n",
      "1: 23.72%\n",
      "0:  6.61%\n",
      "2:  2.24%\n"
     ]
    },
    {
     "name": "stderr",
     "output_type": "stream",
     "text": [
      "C:\\Users\\Francisco\\AppData\\Local\\Temp\\ipykernel_7888\\1888577245.py:20: FutureWarning: The frame.append method is deprecated and will be removed from pandas in a future version. Use pandas.concat instead.\n",
      "  df = df.append(nueva_fila, ignore_index=True)\n"
     ]
    },
    {
     "name": "stdout",
     "output_type": "stream",
     "text": [
      "1/1 [==============================] - 0s 21ms/step\n",
      "1: 70.59%\n",
      "3: 15.75%\n",
      "2: 13.56%\n",
      "0:  0.10%\n",
      "1/1 [==============================] - 0s 21ms/step\n",
      "3: 70.01%\n",
      "2: 21.01%\n",
      "1:  6.66%\n",
      "0:  2.32%\n",
      "1/1 [==============================] - 0s 24ms/step\n",
      "3: 68.27%\n",
      "1: 23.42%\n",
      "0:  6.29%\n",
      "2:  2.02%\n"
     ]
    },
    {
     "name": "stderr",
     "output_type": "stream",
     "text": [
      "C:\\Users\\Francisco\\AppData\\Local\\Temp\\ipykernel_7888\\1888577245.py:20: FutureWarning: The frame.append method is deprecated and will be removed from pandas in a future version. Use pandas.concat instead.\n",
      "  df = df.append(nueva_fila, ignore_index=True)\n"
     ]
    },
    {
     "name": "stdout",
     "output_type": "stream",
     "text": [
      "1/1 [==============================] - 0s 21ms/step\n",
      "3: 87.02%\n",
      "0:  7.11%\n",
      "1:  3.75%\n",
      "2:  2.12%\n",
      "1/1 [==============================] - 0s 19ms/step\n",
      "3: 53.85%\n",
      "2: 21.07%\n",
      "1: 14.31%\n",
      "0: 10.77%\n",
      "1/1 [==============================] - 0s 26ms/step\n",
      "3: 49.97%\n",
      "1: 21.95%\n",
      "0: 15.83%\n",
      "2: 12.25%\n"
     ]
    },
    {
     "name": "stderr",
     "output_type": "stream",
     "text": [
      "C:\\Users\\Francisco\\AppData\\Local\\Temp\\ipykernel_7888\\1888577245.py:20: FutureWarning: The frame.append method is deprecated and will be removed from pandas in a future version. Use pandas.concat instead.\n",
      "  df = df.append(nueva_fila, ignore_index=True)\n"
     ]
    },
    {
     "name": "stdout",
     "output_type": "stream",
     "text": [
      "1/1 [==============================] - 0s 20ms/step\n",
      "3: 96.09%\n",
      "1:  2.87%\n",
      "0:  0.73%\n",
      "2:  0.30%\n",
      "1/1 [==============================] - 0s 21ms/step\n",
      "3: 58.33%\n",
      "2: 21.40%\n",
      "1: 13.48%\n",
      "0:  6.80%\n",
      "1/1 [==============================] - 0s 22ms/step\n",
      "3: 61.54%\n",
      "1: 21.53%\n",
      "0: 10.82%\n",
      "2:  6.11%\n"
     ]
    },
    {
     "name": "stderr",
     "output_type": "stream",
     "text": [
      "C:\\Users\\Francisco\\AppData\\Local\\Temp\\ipykernel_7888\\1888577245.py:20: FutureWarning: The frame.append method is deprecated and will be removed from pandas in a future version. Use pandas.concat instead.\n",
      "  df = df.append(nueva_fila, ignore_index=True)\n"
     ]
    },
    {
     "name": "stdout",
     "output_type": "stream",
     "text": [
      "1/1 [==============================] - 0s 20ms/step\n",
      "3: 95.04%\n",
      "1:  4.13%\n",
      "0:  0.52%\n",
      "2:  0.30%\n",
      "1/1 [==============================] - 0s 20ms/step\n",
      "3: 51.74%\n",
      "2: 20.73%\n",
      "1: 16.45%\n",
      "0: 11.08%\n",
      "1/1 [==============================] - 0s 20ms/step\n",
      "3: 41.19%\n",
      "1: 21.14%\n",
      "0: 19.61%\n",
      "2: 18.07%\n"
     ]
    },
    {
     "name": "stderr",
     "output_type": "stream",
     "text": [
      "C:\\Users\\Francisco\\AppData\\Local\\Temp\\ipykernel_7888\\1888577245.py:20: FutureWarning: The frame.append method is deprecated and will be removed from pandas in a future version. Use pandas.concat instead.\n",
      "  df = df.append(nueva_fila, ignore_index=True)\n"
     ]
    },
    {
     "name": "stdout",
     "output_type": "stream",
     "text": [
      "1/1 [==============================] - 0s 20ms/step\n",
      "3: 71.80%\n",
      "0: 23.48%\n",
      "1:  3.83%\n",
      "2:  0.90%\n",
      "1/1 [==============================] - 0s 21ms/step\n",
      "3: 44.59%\n",
      "1: 20.62%\n",
      "2: 19.03%\n",
      "0: 15.76%\n",
      "1/1 [==============================] - 0s 20ms/step\n",
      "3: 65.07%\n",
      "1: 23.99%\n",
      "0:  7.84%\n",
      "2:  3.10%\n"
     ]
    },
    {
     "name": "stderr",
     "output_type": "stream",
     "text": [
      "C:\\Users\\Francisco\\AppData\\Local\\Temp\\ipykernel_7888\\1888577245.py:20: FutureWarning: The frame.append method is deprecated and will be removed from pandas in a future version. Use pandas.concat instead.\n",
      "  df = df.append(nueva_fila, ignore_index=True)\n"
     ]
    },
    {
     "name": "stdout",
     "output_type": "stream",
     "text": [
      "1/1 [==============================] - 0s 21ms/step\n",
      "3: 86.51%\n",
      "1: 11.02%\n",
      "2:  1.48%\n",
      "0:  0.99%\n",
      "1/1 [==============================] - 0s 20ms/step\n",
      "3: 51.34%\n",
      "2: 20.02%\n",
      "1: 17.91%\n",
      "0: 10.73%\n",
      "1/1 [==============================] - 0s 23ms/step\n",
      "3: 61.43%\n",
      "1: 23.98%\n",
      "0:  9.78%\n",
      "2:  4.80%\n"
     ]
    },
    {
     "name": "stderr",
     "output_type": "stream",
     "text": [
      "C:\\Users\\Francisco\\AppData\\Local\\Temp\\ipykernel_7888\\1888577245.py:20: FutureWarning: The frame.append method is deprecated and will be removed from pandas in a future version. Use pandas.concat instead.\n",
      "  df = df.append(nueva_fila, ignore_index=True)\n"
     ]
    },
    {
     "name": "stdout",
     "output_type": "stream",
     "text": [
      "1/1 [==============================] - 0s 29ms/step\n",
      "3: 97.58%\n",
      "1:  2.20%\n",
      "2:  0.13%\n",
      "0:  0.09%\n",
      "1/1 [==============================] - 0s 31ms/step\n",
      "3: 58.61%\n",
      "2: 21.20%\n",
      "1: 13.27%\n",
      "0:  6.92%\n",
      "1/1 [==============================] - 0s 25ms/step\n",
      "3: 68.01%\n",
      "1: 23.28%\n",
      "0:  6.51%\n",
      "2:  2.20%\n"
     ]
    },
    {
     "name": "stderr",
     "output_type": "stream",
     "text": [
      "C:\\Users\\Francisco\\AppData\\Local\\Temp\\ipykernel_7888\\1888577245.py:20: FutureWarning: The frame.append method is deprecated and will be removed from pandas in a future version. Use pandas.concat instead.\n",
      "  df = df.append(nueva_fila, ignore_index=True)\n"
     ]
    },
    {
     "name": "stdout",
     "output_type": "stream",
     "text": [
      "1/1 [==============================] - 0s 21ms/step\n",
      "3: 77.07%\n",
      "1: 19.30%\n",
      "2:  2.31%\n",
      "0:  1.32%\n",
      "1/1 [==============================] - 0s 23ms/step\n",
      "3: 37.33%\n",
      "0: 22.97%\n",
      "1: 21.86%\n",
      "2: 17.84%\n",
      "1/1 [==============================] - 0s 27ms/step\n",
      "3: 29.01%\n",
      "2: 25.12%\n",
      "0: 24.00%\n",
      "1: 21.87%\n"
     ]
    },
    {
     "name": "stderr",
     "output_type": "stream",
     "text": [
      "C:\\Users\\Francisco\\AppData\\Local\\Temp\\ipykernel_7888\\1888577245.py:20: FutureWarning: The frame.append method is deprecated and will be removed from pandas in a future version. Use pandas.concat instead.\n",
      "  df = df.append(nueva_fila, ignore_index=True)\n"
     ]
    },
    {
     "name": "stdout",
     "output_type": "stream",
     "text": [
      "1/1 [==============================] - 0s 21ms/step\n",
      "3: 62.25%\n",
      "1: 33.47%\n",
      "2:  3.81%\n",
      "0:  0.46%\n",
      "1/1 [==============================] - 0s 20ms/step\n",
      "3: 70.82%\n",
      "2: 20.59%\n",
      "1:  6.33%\n",
      "0:  2.25%\n",
      "1/1 [==============================] - 0s 23ms/step\n",
      "3: 39.78%\n",
      "1: 23.03%\n",
      "0: 19.78%\n",
      "2: 17.41%\n"
     ]
    },
    {
     "name": "stderr",
     "output_type": "stream",
     "text": [
      "C:\\Users\\Francisco\\AppData\\Local\\Temp\\ipykernel_7888\\1888577245.py:20: FutureWarning: The frame.append method is deprecated and will be removed from pandas in a future version. Use pandas.concat instead.\n",
      "  df = df.append(nueva_fila, ignore_index=True)\n"
     ]
    },
    {
     "name": "stdout",
     "output_type": "stream",
     "text": [
      "1/1 [==============================] - 0s 21ms/step\n",
      "3: 84.08%\n",
      "0: 13.12%\n",
      "1:  1.77%\n",
      "2:  1.03%\n",
      "1/1 [==============================] - 0s 23ms/step\n",
      "3: 45.89%\n",
      "2: 19.47%\n",
      "1: 19.18%\n",
      "0: 15.46%\n",
      "1/1 [==============================] - 0s 21ms/step\n",
      "3: 66.79%\n",
      "1: 23.58%\n",
      "0:  7.06%\n",
      "2:  2.57%\n"
     ]
    },
    {
     "name": "stderr",
     "output_type": "stream",
     "text": [
      "C:\\Users\\Francisco\\AppData\\Local\\Temp\\ipykernel_7888\\1888577245.py:20: FutureWarning: The frame.append method is deprecated and will be removed from pandas in a future version. Use pandas.concat instead.\n",
      "  df = df.append(nueva_fila, ignore_index=True)\n"
     ]
    },
    {
     "name": "stdout",
     "output_type": "stream",
     "text": [
      "1/1 [==============================] - 0s 22ms/step\n",
      "3: 87.80%\n",
      "0:  7.20%\n",
      "1:  4.15%\n",
      "2:  0.85%\n",
      "1/1 [==============================] - 0s 21ms/step\n",
      "3: 57.54%\n",
      "2: 21.20%\n",
      "1: 13.69%\n",
      "0:  7.57%\n",
      "1/1 [==============================] - 0s 23ms/step\n",
      "3: 65.08%\n",
      "1: 22.80%\n",
      "0:  8.46%\n",
      "2:  3.66%\n"
     ]
    },
    {
     "name": "stderr",
     "output_type": "stream",
     "text": [
      "C:\\Users\\Francisco\\AppData\\Local\\Temp\\ipykernel_7888\\1888577245.py:20: FutureWarning: The frame.append method is deprecated and will be removed from pandas in a future version. Use pandas.concat instead.\n",
      "  df = df.append(nueva_fila, ignore_index=True)\n"
     ]
    },
    {
     "name": "stdout",
     "output_type": "stream",
     "text": [
      "1/1 [==============================] - 0s 24ms/step\n",
      "3: 90.12%\n",
      "1:  5.34%\n",
      "0:  2.49%\n",
      "2:  2.05%\n",
      "1/1 [==============================] - 0s 21ms/step\n",
      "3: 54.80%\n",
      "2: 20.81%\n",
      "1: 15.25%\n",
      "0:  9.14%\n",
      "1/1 [==============================] - 0s 25ms/step\n",
      "3: 50.99%\n",
      "1: 21.66%\n",
      "0: 15.53%\n",
      "2: 11.82%\n"
     ]
    },
    {
     "name": "stderr",
     "output_type": "stream",
     "text": [
      "C:\\Users\\Francisco\\AppData\\Local\\Temp\\ipykernel_7888\\1888577245.py:20: FutureWarning: The frame.append method is deprecated and will be removed from pandas in a future version. Use pandas.concat instead.\n",
      "  df = df.append(nueva_fila, ignore_index=True)\n"
     ]
    },
    {
     "name": "stdout",
     "output_type": "stream",
     "text": [
      "1/1 [==============================] - 0s 27ms/step\n",
      "3: 87.12%\n",
      "0:  5.42%\n",
      "1:  5.02%\n",
      "2:  2.45%\n",
      "1/1 [==============================] - 0s 23ms/step\n",
      "3: 62.51%\n",
      "2: 21.86%\n",
      "1:  9.71%\n",
      "0:  5.92%\n",
      "1/1 [==============================] - 0s 21ms/step\n",
      "3: 68.81%\n",
      "1: 22.78%\n",
      "0:  6.32%\n",
      "2:  2.09%\n"
     ]
    },
    {
     "name": "stderr",
     "output_type": "stream",
     "text": [
      "C:\\Users\\Francisco\\AppData\\Local\\Temp\\ipykernel_7888\\1888577245.py:20: FutureWarning: The frame.append method is deprecated and will be removed from pandas in a future version. Use pandas.concat instead.\n",
      "  df = df.append(nueva_fila, ignore_index=True)\n"
     ]
    },
    {
     "name": "stdout",
     "output_type": "stream",
     "text": [
      "1/1 [==============================] - 0s 24ms/step\n",
      "3: 57.50%\n",
      "0: 39.13%\n",
      "1:  2.59%\n",
      "2:  0.78%\n",
      "1/1 [==============================] - 0s 29ms/step\n",
      "3: 50.88%\n",
      "2: 20.75%\n",
      "1: 15.65%\n",
      "0: 12.72%\n",
      "1/1 [==============================] - 0s 19ms/step\n",
      "3: 55.71%\n",
      "1: 22.31%\n",
      "0: 13.13%\n",
      "2:  8.84%\n"
     ]
    },
    {
     "name": "stderr",
     "output_type": "stream",
     "text": [
      "C:\\Users\\Francisco\\AppData\\Local\\Temp\\ipykernel_7888\\1888577245.py:20: FutureWarning: The frame.append method is deprecated and will be removed from pandas in a future version. Use pandas.concat instead.\n",
      "  df = df.append(nueva_fila, ignore_index=True)\n"
     ]
    },
    {
     "name": "stdout",
     "output_type": "stream",
     "text": [
      "1/1 [==============================] - 0s 20ms/step\n",
      "3: 92.26%\n",
      "1:  6.12%\n",
      "0:  0.81%\n",
      "2:  0.80%\n",
      "1/1 [==============================] - 0s 22ms/step\n",
      "3: 57.23%\n",
      "2: 20.94%\n",
      "1: 13.93%\n",
      "0:  7.90%\n",
      "1/1 [==============================] - 0s 29ms/step\n",
      "3: 39.04%\n",
      "1: 21.68%\n",
      "0: 20.33%\n",
      "2: 18.95%\n"
     ]
    },
    {
     "name": "stderr",
     "output_type": "stream",
     "text": [
      "C:\\Users\\Francisco\\AppData\\Local\\Temp\\ipykernel_7888\\1888577245.py:20: FutureWarning: The frame.append method is deprecated and will be removed from pandas in a future version. Use pandas.concat instead.\n",
      "  df = df.append(nueva_fila, ignore_index=True)\n"
     ]
    },
    {
     "name": "stdout",
     "output_type": "stream",
     "text": [
      "1/1 [==============================] - 0s 22ms/step\n",
      "3: 91.52%\n",
      "1:  4.73%\n",
      "0:  2.23%\n",
      "2:  1.52%\n",
      "1/1 [==============================] - 0s 22ms/step\n",
      "3: 64.98%\n",
      "2: 21.75%\n",
      "1:  8.68%\n",
      "0:  4.59%\n",
      "1/1 [==============================] - 0s 21ms/step\n",
      "3: 68.66%\n",
      "1: 22.98%\n",
      "0:  6.30%\n",
      "2:  2.06%\n"
     ]
    },
    {
     "name": "stderr",
     "output_type": "stream",
     "text": [
      "C:\\Users\\Francisco\\AppData\\Local\\Temp\\ipykernel_7888\\1888577245.py:20: FutureWarning: The frame.append method is deprecated and will be removed from pandas in a future version. Use pandas.concat instead.\n",
      "  df = df.append(nueva_fila, ignore_index=True)\n"
     ]
    },
    {
     "name": "stdout",
     "output_type": "stream",
     "text": [
      "1/1 [==============================] - 0s 29ms/step\n",
      "3: 90.46%\n",
      "1:  7.98%\n",
      "0:  0.97%\n",
      "2:  0.60%\n",
      "1/1 [==============================] - 0s 29ms/step\n",
      "3: 35.99%\n",
      "0: 24.11%\n",
      "1: 22.67%\n",
      "2: 17.24%\n",
      "1/1 [==============================] - 0s 27ms/step\n",
      "3: 33.51%\n",
      "0: 22.36%\n",
      "2: 22.20%\n",
      "1: 21.93%\n"
     ]
    },
    {
     "name": "stderr",
     "output_type": "stream",
     "text": [
      "C:\\Users\\Francisco\\AppData\\Local\\Temp\\ipykernel_7888\\1888577245.py:20: FutureWarning: The frame.append method is deprecated and will be removed from pandas in a future version. Use pandas.concat instead.\n",
      "  df = df.append(nueva_fila, ignore_index=True)\n"
     ]
    },
    {
     "name": "stdout",
     "output_type": "stream",
     "text": [
      "1/1 [==============================] - 0s 22ms/step\n",
      "3: 94.77%\n",
      "1:  4.19%\n",
      "0:  0.73%\n",
      "2:  0.31%\n",
      "1/1 [==============================] - 0s 22ms/step\n",
      "3: 35.62%\n",
      "0: 24.51%\n",
      "1: 22.71%\n",
      "2: 17.16%\n",
      "1/1 [==============================] - 0s 24ms/step\n",
      "3: 51.07%\n",
      "1: 23.45%\n",
      "0: 14.88%\n",
      "2: 10.60%\n"
     ]
    },
    {
     "name": "stderr",
     "output_type": "stream",
     "text": [
      "C:\\Users\\Francisco\\AppData\\Local\\Temp\\ipykernel_7888\\1888577245.py:20: FutureWarning: The frame.append method is deprecated and will be removed from pandas in a future version. Use pandas.concat instead.\n",
      "  df = df.append(nueva_fila, ignore_index=True)\n"
     ]
    },
    {
     "name": "stdout",
     "output_type": "stream",
     "text": [
      "1/1 [==============================] - 0s 26ms/step\n",
      "3: 71.19%\n",
      "1: 27.22%\n",
      "2:  1.27%\n",
      "0:  0.32%\n",
      "1/1 [==============================] - 0s 19ms/step\n",
      "3: 56.39%\n",
      "2: 20.97%\n",
      "1: 14.52%\n",
      "0:  8.12%\n",
      "1/1 [==============================] - 0s 30ms/step\n",
      "3: 52.86%\n",
      "1: 21.52%\n",
      "0: 14.69%\n",
      "2: 10.93%\n"
     ]
    },
    {
     "name": "stderr",
     "output_type": "stream",
     "text": [
      "C:\\Users\\Francisco\\AppData\\Local\\Temp\\ipykernel_7888\\1888577245.py:20: FutureWarning: The frame.append method is deprecated and will be removed from pandas in a future version. Use pandas.concat instead.\n",
      "  df = df.append(nueva_fila, ignore_index=True)\n"
     ]
    },
    {
     "name": "stdout",
     "output_type": "stream",
     "text": [
      "1/1 [==============================] - 0s 29ms/step\n",
      "3: 83.26%\n",
      "1: 15.00%\n",
      "2:  1.29%\n",
      "0:  0.44%\n",
      "1/1 [==============================] - 0s 24ms/step\n",
      "3: 68.54%\n",
      "2: 21.09%\n",
      "1:  7.10%\n",
      "0:  3.26%\n",
      "1/1 [==============================] - 0s 22ms/step\n",
      "3: 41.38%\n",
      "1: 20.42%\n",
      "0: 19.66%\n",
      "2: 18.54%\n"
     ]
    },
    {
     "name": "stderr",
     "output_type": "stream",
     "text": [
      "C:\\Users\\Francisco\\AppData\\Local\\Temp\\ipykernel_7888\\1888577245.py:20: FutureWarning: The frame.append method is deprecated and will be removed from pandas in a future version. Use pandas.concat instead.\n",
      "  df = df.append(nueva_fila, ignore_index=True)\n"
     ]
    },
    {
     "name": "stdout",
     "output_type": "stream",
     "text": [
      "1/1 [==============================] - 0s 21ms/step\n",
      "3: 89.51%\n",
      "1:  6.08%\n",
      "0:  2.82%\n",
      "2:  1.60%\n",
      "1/1 [==============================] - 0s 21ms/step\n",
      "3: 54.66%\n",
      "2: 21.65%\n",
      "1: 13.01%\n",
      "0: 10.67%\n",
      "1/1 [==============================] - 0s 22ms/step\n",
      "3: 61.56%\n",
      "1: 25.17%\n",
      "0:  9.14%\n",
      "2:  4.13%\n"
     ]
    },
    {
     "name": "stderr",
     "output_type": "stream",
     "text": [
      "C:\\Users\\Francisco\\AppData\\Local\\Temp\\ipykernel_7888\\1888577245.py:20: FutureWarning: The frame.append method is deprecated and will be removed from pandas in a future version. Use pandas.concat instead.\n",
      "  df = df.append(nueva_fila, ignore_index=True)\n"
     ]
    },
    {
     "name": "stdout",
     "output_type": "stream",
     "text": [
      "1/1 [==============================] - 0s 22ms/step\n",
      "3: 58.98%\n",
      "0: 38.35%\n",
      "1:  1.86%\n",
      "2:  0.80%\n",
      "1/1 [==============================] - 0s 24ms/step\n",
      "3: 49.32%\n",
      "2: 21.12%\n",
      "1: 16.00%\n",
      "0: 13.56%\n",
      "1/1 [==============================] - 0s 27ms/step\n",
      "3: 65.21%\n",
      "1: 24.12%\n",
      "0:  7.65%\n",
      "2:  3.02%\n"
     ]
    },
    {
     "name": "stderr",
     "output_type": "stream",
     "text": [
      "C:\\Users\\Francisco\\AppData\\Local\\Temp\\ipykernel_7888\\1888577245.py:20: FutureWarning: The frame.append method is deprecated and will be removed from pandas in a future version. Use pandas.concat instead.\n",
      "  df = df.append(nueva_fila, ignore_index=True)\n"
     ]
    },
    {
     "name": "stdout",
     "output_type": "stream",
     "text": [
      "1/1 [==============================] - 0s 23ms/step\n",
      "3: 90.46%\n",
      "1:  7.98%\n",
      "0:  0.97%\n",
      "2:  0.60%\n",
      "1/1 [==============================] - 0s 29ms/step\n",
      "3: 35.99%\n",
      "0: 24.11%\n",
      "1: 22.67%\n",
      "2: 17.24%\n",
      "1/1 [==============================] - 0s 27ms/step\n",
      "3: 33.51%\n",
      "0: 22.36%\n",
      "2: 22.20%\n",
      "1: 21.93%\n"
     ]
    },
    {
     "name": "stderr",
     "output_type": "stream",
     "text": [
      "C:\\Users\\Francisco\\AppData\\Local\\Temp\\ipykernel_7888\\1888577245.py:20: FutureWarning: The frame.append method is deprecated and will be removed from pandas in a future version. Use pandas.concat instead.\n",
      "  df = df.append(nueva_fila, ignore_index=True)\n"
     ]
    },
    {
     "name": "stdout",
     "output_type": "stream",
     "text": [
      "1/1 [==============================] - 0s 25ms/step\n",
      "3: 94.77%\n",
      "1:  4.19%\n",
      "0:  0.73%\n",
      "2:  0.31%\n",
      "1/1 [==============================] - 0s 20ms/step\n",
      "3: 35.62%\n",
      "0: 24.51%\n",
      "1: 22.71%\n",
      "2: 17.16%\n",
      "1/1 [==============================] - 0s 25ms/step\n",
      "3: 51.07%\n",
      "1: 23.45%\n",
      "0: 14.88%\n",
      "2: 10.60%\n"
     ]
    },
    {
     "name": "stderr",
     "output_type": "stream",
     "text": [
      "C:\\Users\\Francisco\\AppData\\Local\\Temp\\ipykernel_7888\\1888577245.py:20: FutureWarning: The frame.append method is deprecated and will be removed from pandas in a future version. Use pandas.concat instead.\n",
      "  df = df.append(nueva_fila, ignore_index=True)\n"
     ]
    },
    {
     "name": "stdout",
     "output_type": "stream",
     "text": [
      "1/1 [==============================] - 0s 21ms/step\n",
      "3: 92.19%\n",
      "1:  5.89%\n",
      "2:  1.03%\n",
      "0:  0.89%\n",
      "1/1 [==============================] - 0s 20ms/step\n",
      "3: 55.93%\n",
      "2: 20.97%\n",
      "1: 14.58%\n",
      "0:  8.52%\n",
      "1/1 [==============================] - 0s 30ms/step\n",
      "3: 34.24%\n",
      "2: 22.68%\n",
      "0: 22.24%\n",
      "1: 20.84%\n"
     ]
    },
    {
     "name": "stderr",
     "output_type": "stream",
     "text": [
      "C:\\Users\\Francisco\\AppData\\Local\\Temp\\ipykernel_7888\\1888577245.py:20: FutureWarning: The frame.append method is deprecated and will be removed from pandas in a future version. Use pandas.concat instead.\n",
      "  df = df.append(nueva_fila, ignore_index=True)\n"
     ]
    },
    {
     "name": "stdout",
     "output_type": "stream",
     "text": [
      "1/1 [==============================] - 0s 21ms/step\n",
      "3: 87.83%\n",
      "1:  8.21%\n",
      "2:  3.00%\n",
      "0:  0.96%\n",
      "1/1 [==============================] - 0s 21ms/step\n",
      "3: 52.51%\n",
      "2: 20.30%\n",
      "1: 17.00%\n",
      "0: 10.20%\n",
      "1/1 [==============================] - 0s 21ms/step\n",
      "3: 65.62%\n",
      "1: 23.62%\n",
      "0:  7.74%\n",
      "2:  3.02%\n"
     ]
    },
    {
     "name": "stderr",
     "output_type": "stream",
     "text": [
      "C:\\Users\\Francisco\\AppData\\Local\\Temp\\ipykernel_7888\\1888577245.py:20: FutureWarning: The frame.append method is deprecated and will be removed from pandas in a future version. Use pandas.concat instead.\n",
      "  df = df.append(nueva_fila, ignore_index=True)\n"
     ]
    },
    {
     "name": "stdout",
     "output_type": "stream",
     "text": [
      "1/1 [==============================] - 0s 22ms/step\n",
      "3: 74.66%\n",
      "1: 25.00%\n",
      "2:  0.28%\n",
      "0:  0.05%\n",
      "1/1 [==============================] - 0s 19ms/step\n",
      "3: 65.28%\n",
      "2: 21.46%\n",
      "1:  9.09%\n",
      "0:  4.17%\n",
      "1/1 [==============================] - 0s 30ms/step\n",
      "3: 64.67%\n",
      "1: 24.73%\n",
      "0:  7.67%\n",
      "2:  2.92%\n"
     ]
    },
    {
     "name": "stderr",
     "output_type": "stream",
     "text": [
      "C:\\Users\\Francisco\\AppData\\Local\\Temp\\ipykernel_7888\\1888577245.py:20: FutureWarning: The frame.append method is deprecated and will be removed from pandas in a future version. Use pandas.concat instead.\n",
      "  df = df.append(nueva_fila, ignore_index=True)\n"
     ]
    },
    {
     "name": "stdout",
     "output_type": "stream",
     "text": [
      "1/1 [==============================] - 0s 23ms/step\n",
      "3: 86.01%\n",
      "0:  8.57%\n",
      "1:  4.18%\n",
      "2:  1.25%\n",
      "1/1 [==============================] - 0s 24ms/step\n",
      "3: 70.15%\n",
      "2: 20.71%\n",
      "1:  6.37%\n",
      "0:  2.77%\n",
      "1/1 [==============================] - 0s 26ms/step\n",
      "3: 67.52%\n",
      "1: 22.93%\n",
      "0:  6.99%\n",
      "2:  2.55%\n"
     ]
    },
    {
     "name": "stderr",
     "output_type": "stream",
     "text": [
      "C:\\Users\\Francisco\\AppData\\Local\\Temp\\ipykernel_7888\\1888577245.py:20: FutureWarning: The frame.append method is deprecated and will be removed from pandas in a future version. Use pandas.concat instead.\n",
      "  df = df.append(nueva_fila, ignore_index=True)\n"
     ]
    },
    {
     "name": "stdout",
     "output_type": "stream",
     "text": [
      "1/1 [==============================] - 0s 21ms/step\n",
      "3: 94.79%\n",
      "1:  2.84%\n",
      "0:  1.29%\n",
      "2:  1.08%\n",
      "1/1 [==============================] - 0s 29ms/step\n",
      "3: 70.04%\n",
      "2: 20.83%\n",
      "1:  6.53%\n",
      "0:  2.61%\n",
      "1/1 [==============================] - 0s 20ms/step\n",
      "3: 67.75%\n",
      "1: 23.34%\n",
      "0:  6.63%\n",
      "2:  2.29%\n"
     ]
    },
    {
     "name": "stderr",
     "output_type": "stream",
     "text": [
      "C:\\Users\\Francisco\\AppData\\Local\\Temp\\ipykernel_7888\\1888577245.py:20: FutureWarning: The frame.append method is deprecated and will be removed from pandas in a future version. Use pandas.concat instead.\n",
      "  df = df.append(nueva_fila, ignore_index=True)\n"
     ]
    },
    {
     "name": "stdout",
     "output_type": "stream",
     "text": [
      "1/1 [==============================] - 0s 20ms/step\n",
      "3: 95.95%\n",
      "1:  2.82%\n",
      "0:  0.77%\n",
      "2:  0.46%\n",
      "1/1 [==============================] - 0s 21ms/step\n",
      "3: 65.13%\n",
      "2: 21.33%\n",
      "1:  9.18%\n",
      "0:  4.36%\n",
      "1/1 [==============================] - 0s 24ms/step\n",
      "3: 52.03%\n",
      "1: 21.52%\n",
      "0: 15.06%\n",
      "2: 11.39%\n"
     ]
    },
    {
     "name": "stderr",
     "output_type": "stream",
     "text": [
      "C:\\Users\\Francisco\\AppData\\Local\\Temp\\ipykernel_7888\\1888577245.py:20: FutureWarning: The frame.append method is deprecated and will be removed from pandas in a future version. Use pandas.concat instead.\n",
      "  df = df.append(nueva_fila, ignore_index=True)\n"
     ]
    },
    {
     "name": "stdout",
     "output_type": "stream",
     "text": [
      "1/1 [==============================] - 0s 20ms/step\n",
      "3: 94.99%\n",
      "1:  2.30%\n",
      "0:  1.45%\n",
      "2:  1.26%\n",
      "1/1 [==============================] - 0s 22ms/step\n",
      "3: 51.96%\n",
      "2: 21.36%\n",
      "1: 15.60%\n",
      "0: 11.07%\n",
      "1/1 [==============================] - 0s 25ms/step\n",
      "3: 63.51%\n",
      "1: 25.52%\n",
      "0:  7.88%\n",
      "2:  3.08%\n"
     ]
    },
    {
     "name": "stderr",
     "output_type": "stream",
     "text": [
      "C:\\Users\\Francisco\\AppData\\Local\\Temp\\ipykernel_7888\\1888577245.py:20: FutureWarning: The frame.append method is deprecated and will be removed from pandas in a future version. Use pandas.concat instead.\n",
      "  df = df.append(nueva_fila, ignore_index=True)\n"
     ]
    },
    {
     "name": "stdout",
     "output_type": "stream",
     "text": [
      "1/1 [==============================] - 0s 21ms/step\n",
      "3: 89.34%\n",
      "1:  6.54%\n",
      "2:  2.18%\n",
      "0:  1.94%\n",
      "1/1 [==============================] - 0s 28ms/step\n",
      "3: 69.19%\n",
      "2: 21.31%\n",
      "1:  6.96%\n",
      "0:  2.54%\n",
      "1/1 [==============================] - 0s 23ms/step\n",
      "3: 67.79%\n",
      "1: 23.79%\n",
      "0:  6.35%\n",
      "2:  2.07%\n"
     ]
    },
    {
     "name": "stderr",
     "output_type": "stream",
     "text": [
      "C:\\Users\\Francisco\\AppData\\Local\\Temp\\ipykernel_7888\\1888577245.py:20: FutureWarning: The frame.append method is deprecated and will be removed from pandas in a future version. Use pandas.concat instead.\n",
      "  df = df.append(nueva_fila, ignore_index=True)\n"
     ]
    },
    {
     "name": "stdout",
     "output_type": "stream",
     "text": [
      "1/1 [==============================] - 0s 26ms/step\n",
      "3: 49.59%\n",
      "1: 49.28%\n",
      "2:  1.07%\n",
      "0:  0.07%\n",
      "1/1 [==============================] - 0s 21ms/step\n",
      "3: 64.59%\n",
      "2: 21.48%\n",
      "1:  8.86%\n",
      "0:  5.07%\n",
      "1/1 [==============================] - 0s 29ms/step\n",
      "3: 48.45%\n",
      "1: 21.11%\n",
      "0: 16.76%\n",
      "2: 13.68%\n"
     ]
    },
    {
     "name": "stderr",
     "output_type": "stream",
     "text": [
      "C:\\Users\\Francisco\\AppData\\Local\\Temp\\ipykernel_7888\\1888577245.py:20: FutureWarning: The frame.append method is deprecated and will be removed from pandas in a future version. Use pandas.concat instead.\n",
      "  df = df.append(nueva_fila, ignore_index=True)\n"
     ]
    },
    {
     "name": "stdout",
     "output_type": "stream",
     "text": [
      "1/1 [==============================] - 0s 22ms/step\n",
      "3: 96.84%\n",
      "1:  2.16%\n",
      "2:  0.58%\n",
      "0:  0.42%\n",
      "1/1 [==============================] - 0s 22ms/step\n",
      "3: 52.79%\n",
      "2: 20.86%\n",
      "1: 15.10%\n",
      "0: 11.25%\n",
      "1/1 [==============================] - 0s 22ms/step\n",
      "3: 50.65%\n",
      "1: 22.27%\n",
      "0: 15.44%\n",
      "2: 11.64%\n"
     ]
    },
    {
     "name": "stderr",
     "output_type": "stream",
     "text": [
      "C:\\Users\\Francisco\\AppData\\Local\\Temp\\ipykernel_7888\\1888577245.py:20: FutureWarning: The frame.append method is deprecated and will be removed from pandas in a future version. Use pandas.concat instead.\n",
      "  df = df.append(nueva_fila, ignore_index=True)\n"
     ]
    },
    {
     "name": "stdout",
     "output_type": "stream",
     "text": [
      "1/1 [==============================] - 0s 25ms/step\n",
      "3: 94.71%\n",
      "1:  4.31%\n",
      "2:  0.64%\n",
      "0:  0.34%\n",
      "1/1 [==============================] - 0s 22ms/step\n",
      "3: 67.49%\n",
      "2: 21.31%\n",
      "1:  7.83%\n",
      "0:  3.38%\n",
      "1/1 [==============================] - 0s 23ms/step\n",
      "3: 67.40%\n",
      "1: 23.54%\n",
      "0:  6.72%\n",
      "2:  2.34%\n"
     ]
    },
    {
     "name": "stderr",
     "output_type": "stream",
     "text": [
      "C:\\Users\\Francisco\\AppData\\Local\\Temp\\ipykernel_7888\\1888577245.py:20: FutureWarning: The frame.append method is deprecated and will be removed from pandas in a future version. Use pandas.concat instead.\n",
      "  df = df.append(nueva_fila, ignore_index=True)\n"
     ]
    },
    {
     "name": "stdout",
     "output_type": "stream",
     "text": [
      "1/1 [==============================] - 0s 21ms/step\n",
      "3: 76.05%\n",
      "1: 23.12%\n",
      "2:  0.72%\n",
      "0:  0.10%\n",
      "1/1 [==============================] - 0s 23ms/step\n",
      "3: 59.20%\n",
      "2: 21.57%\n",
      "1: 11.69%\n",
      "0:  7.54%\n",
      "1/1 [==============================] - 0s 22ms/step\n",
      "3: 39.03%\n",
      "1: 21.74%\n",
      "0: 20.33%\n",
      "2: 18.90%\n"
     ]
    },
    {
     "name": "stderr",
     "output_type": "stream",
     "text": [
      "C:\\Users\\Francisco\\AppData\\Local\\Temp\\ipykernel_7888\\1888577245.py:20: FutureWarning: The frame.append method is deprecated and will be removed from pandas in a future version. Use pandas.concat instead.\n",
      "  df = df.append(nueva_fila, ignore_index=True)\n"
     ]
    },
    {
     "name": "stdout",
     "output_type": "stream",
     "text": [
      "1/1 [==============================] - 0s 20ms/step\n",
      "3: 93.91%\n",
      "1:  2.84%\n",
      "0:  1.81%\n",
      "2:  1.44%\n",
      "1/1 [==============================] - 0s 26ms/step\n",
      "3: 51.98%\n",
      "2: 20.67%\n",
      "1: 16.97%\n",
      "0: 10.38%\n",
      "1/1 [==============================] - 0s 22ms/step\n",
      "3: 64.76%\n",
      "1: 24.69%\n",
      "0:  7.62%\n",
      "2:  2.93%\n"
     ]
    },
    {
     "name": "stderr",
     "output_type": "stream",
     "text": [
      "C:\\Users\\Francisco\\AppData\\Local\\Temp\\ipykernel_7888\\1888577245.py:20: FutureWarning: The frame.append method is deprecated and will be removed from pandas in a future version. Use pandas.concat instead.\n",
      "  df = df.append(nueva_fila, ignore_index=True)\n"
     ]
    },
    {
     "name": "stdout",
     "output_type": "stream",
     "text": [
      "1/1 [==============================] - 0s 22ms/step\n",
      "3: 80.08%\n",
      "1: 18.73%\n",
      "2:  1.00%\n",
      "0:  0.20%\n",
      "1/1 [==============================] - 0s 22ms/step\n",
      "3: 69.50%\n",
      "2: 20.81%\n",
      "1:  6.73%\n",
      "0:  2.96%\n",
      "1/1 [==============================] - 0s 22ms/step\n",
      "3: 38.70%\n",
      "1: 20.83%\n",
      "0: 20.61%\n",
      "2: 19.86%\n"
     ]
    },
    {
     "name": "stderr",
     "output_type": "stream",
     "text": [
      "C:\\Users\\Francisco\\AppData\\Local\\Temp\\ipykernel_7888\\1888577245.py:20: FutureWarning: The frame.append method is deprecated and will be removed from pandas in a future version. Use pandas.concat instead.\n",
      "  df = df.append(nueva_fila, ignore_index=True)\n"
     ]
    },
    {
     "name": "stdout",
     "output_type": "stream",
     "text": [
      "1/1 [==============================] - 0s 21ms/step\n",
      "3: 75.40%\n",
      "1: 18.59%\n",
      "2:  3.47%\n",
      "0:  2.54%\n",
      "1/1 [==============================] - 0s 28ms/step\n",
      "3: 66.47%\n",
      "2: 21.68%\n",
      "1:  7.78%\n",
      "0:  4.08%\n",
      "1/1 [==============================] - 0s 24ms/step\n",
      "3: 32.98%\n",
      "2: 22.88%\n",
      "0: 22.60%\n",
      "1: 21.53%\n"
     ]
    },
    {
     "name": "stderr",
     "output_type": "stream",
     "text": [
      "C:\\Users\\Francisco\\AppData\\Local\\Temp\\ipykernel_7888\\1888577245.py:20: FutureWarning: The frame.append method is deprecated and will be removed from pandas in a future version. Use pandas.concat instead.\n",
      "  df = df.append(nueva_fila, ignore_index=True)\n"
     ]
    },
    {
     "name": "stdout",
     "output_type": "stream",
     "text": [
      "1/1 [==============================] - 0s 26ms/step\n",
      "3: 49.32%\n",
      "0: 48.36%\n",
      "1:  1.75%\n",
      "2:  0.56%\n",
      "1/1 [==============================] - 0s 20ms/step\n",
      "3: 69.81%\n",
      "2: 20.87%\n",
      "1:  6.79%\n",
      "0:  2.53%\n",
      "1/1 [==============================] - 0s 23ms/step\n",
      "3: 69.13%\n",
      "1: 22.61%\n",
      "0:  6.24%\n",
      "2:  2.02%\n"
     ]
    },
    {
     "name": "stderr",
     "output_type": "stream",
     "text": [
      "C:\\Users\\Francisco\\AppData\\Local\\Temp\\ipykernel_7888\\1888577245.py:20: FutureWarning: The frame.append method is deprecated and will be removed from pandas in a future version. Use pandas.concat instead.\n",
      "  df = df.append(nueva_fila, ignore_index=True)\n"
     ]
    },
    {
     "name": "stdout",
     "output_type": "stream",
     "text": [
      "1/1 [==============================] - 0s 24ms/step\n",
      "3: 84.52%\n",
      "1: 15.13%\n",
      "2:  0.24%\n",
      "0:  0.11%\n",
      "1/1 [==============================] - 0s 24ms/step\n",
      "3: 57.94%\n",
      "2: 20.96%\n",
      "1: 13.76%\n",
      "0:  7.34%\n",
      "1/1 [==============================] - 0s 22ms/step\n",
      "3: 53.29%\n",
      "1: 21.20%\n",
      "0: 14.70%\n",
      "2: 10.80%\n"
     ]
    },
    {
     "name": "stderr",
     "output_type": "stream",
     "text": [
      "C:\\Users\\Francisco\\AppData\\Local\\Temp\\ipykernel_7888\\1888577245.py:20: FutureWarning: The frame.append method is deprecated and will be removed from pandas in a future version. Use pandas.concat instead.\n",
      "  df = df.append(nueva_fila, ignore_index=True)\n"
     ]
    },
    {
     "name": "stdout",
     "output_type": "stream",
     "text": [
      "1/1 [==============================] - 0s 21ms/step\n",
      "3: 86.55%\n",
      "0:  8.41%\n",
      "1:  3.55%\n",
      "2:  1.49%\n",
      "1/1 [==============================] - 0s 21ms/step\n",
      "3: 38.13%\n",
      "0: 21.90%\n",
      "1: 20.92%\n",
      "2: 19.05%\n",
      "1/1 [==============================] - 0s 24ms/step\n",
      "3: 49.76%\n",
      "1: 21.80%\n",
      "0: 15.96%\n",
      "2: 12.48%\n"
     ]
    },
    {
     "name": "stderr",
     "output_type": "stream",
     "text": [
      "C:\\Users\\Francisco\\AppData\\Local\\Temp\\ipykernel_7888\\1888577245.py:20: FutureWarning: The frame.append method is deprecated and will be removed from pandas in a future version. Use pandas.concat instead.\n",
      "  df = df.append(nueva_fila, ignore_index=True)\n"
     ]
    },
    {
     "name": "stdout",
     "output_type": "stream",
     "text": [
      "1/1 [==============================] - 0s 24ms/step\n",
      "3: 82.18%\n",
      "0: 13.68%\n",
      "1:  2.73%\n",
      "2:  1.41%\n",
      "1/1 [==============================] - 0s 21ms/step\n",
      "3: 65.73%\n",
      "2: 21.40%\n",
      "1:  8.90%\n",
      "0:  3.98%\n",
      "1/1 [==============================] - 0s 22ms/step\n",
      "3: 68.35%\n",
      "1: 23.12%\n",
      "0:  6.40%\n",
      "2:  2.13%\n"
     ]
    },
    {
     "name": "stderr",
     "output_type": "stream",
     "text": [
      "C:\\Users\\Francisco\\AppData\\Local\\Temp\\ipykernel_7888\\1888577245.py:20: FutureWarning: The frame.append method is deprecated and will be removed from pandas in a future version. Use pandas.concat instead.\n",
      "  df = df.append(nueva_fila, ignore_index=True)\n"
     ]
    },
    {
     "name": "stdout",
     "output_type": "stream",
     "text": [
      "1/1 [==============================] - 0s 20ms/step\n",
      "3: 59.47%\n",
      "0: 34.53%\n",
      "1:  4.74%\n",
      "2:  1.26%\n",
      "1/1 [==============================] - 0s 24ms/step\n",
      "3: 35.00%\n",
      "0: 24.86%\n",
      "1: 23.25%\n",
      "2: 16.88%\n",
      "1/1 [==============================] - 0s 28ms/step\n",
      "3: 29.60%\n",
      "2: 26.11%\n",
      "0: 23.82%\n",
      "1: 20.47%\n"
     ]
    },
    {
     "name": "stderr",
     "output_type": "stream",
     "text": [
      "C:\\Users\\Francisco\\AppData\\Local\\Temp\\ipykernel_7888\\1888577245.py:20: FutureWarning: The frame.append method is deprecated and will be removed from pandas in a future version. Use pandas.concat instead.\n",
      "  df = df.append(nueva_fila, ignore_index=True)\n"
     ]
    },
    {
     "name": "stdout",
     "output_type": "stream",
     "text": [
      "1/1 [==============================] - 0s 22ms/step\n",
      "3: 96.09%\n",
      "1:  2.87%\n",
      "0:  0.73%\n",
      "2:  0.30%\n",
      "1/1 [==============================] - 0s 21ms/step\n",
      "3: 58.33%\n",
      "2: 21.40%\n",
      "1: 13.48%\n",
      "0:  6.80%\n",
      "1/1 [==============================] - 0s 21ms/step\n",
      "3: 61.54%\n",
      "1: 21.53%\n",
      "0: 10.82%\n",
      "2:  6.11%\n"
     ]
    },
    {
     "name": "stderr",
     "output_type": "stream",
     "text": [
      "C:\\Users\\Francisco\\AppData\\Local\\Temp\\ipykernel_7888\\1888577245.py:20: FutureWarning: The frame.append method is deprecated and will be removed from pandas in a future version. Use pandas.concat instead.\n",
      "  df = df.append(nueva_fila, ignore_index=True)\n"
     ]
    },
    {
     "name": "stdout",
     "output_type": "stream",
     "text": [
      "1/1 [==============================] - 0s 23ms/step\n",
      "3: 93.76%\n",
      "1:  5.70%\n",
      "2:  0.39%\n",
      "0:  0.15%\n",
      "1/1 [==============================] - 0s 25ms/step\n",
      "3: 54.06%\n",
      "2: 20.77%\n",
      "1: 15.41%\n",
      "0:  9.77%\n",
      "1/1 [==============================] - 0s 31ms/step\n",
      "3: 55.72%\n",
      "1: 22.31%\n",
      "0: 13.22%\n",
      "2:  8.76%\n"
     ]
    },
    {
     "name": "stderr",
     "output_type": "stream",
     "text": [
      "C:\\Users\\Francisco\\AppData\\Local\\Temp\\ipykernel_7888\\1888577245.py:20: FutureWarning: The frame.append method is deprecated and will be removed from pandas in a future version. Use pandas.concat instead.\n",
      "  df = df.append(nueva_fila, ignore_index=True)\n"
     ]
    },
    {
     "name": "stdout",
     "output_type": "stream",
     "text": [
      "1/1 [==============================] - 0s 21ms/step\n",
      "3: 90.40%\n",
      "0:  4.42%\n",
      "1:  4.25%\n",
      "2:  0.94%\n",
      "1/1 [==============================] - 0s 22ms/step\n",
      "3: 54.14%\n",
      "2: 20.57%\n",
      "1: 16.10%\n",
      "0:  9.19%\n",
      "1/1 [==============================] - 0s 21ms/step\n",
      "3: 41.32%\n",
      "1: 21.89%\n",
      "0: 19.41%\n",
      "2: 17.38%\n"
     ]
    },
    {
     "name": "stderr",
     "output_type": "stream",
     "text": [
      "C:\\Users\\Francisco\\AppData\\Local\\Temp\\ipykernel_7888\\1888577245.py:20: FutureWarning: The frame.append method is deprecated and will be removed from pandas in a future version. Use pandas.concat instead.\n",
      "  df = df.append(nueva_fila, ignore_index=True)\n"
     ]
    },
    {
     "name": "stdout",
     "output_type": "stream",
     "text": [
      "1/1 [==============================] - 0s 26ms/step\n",
      "3: 86.51%\n",
      "1: 11.02%\n",
      "2:  1.48%\n",
      "0:  0.99%\n",
      "1/1 [==============================] - 0s 20ms/step\n",
      "3: 51.34%\n",
      "2: 20.02%\n",
      "1: 17.91%\n",
      "0: 10.73%\n",
      "1/1 [==============================] - 0s 21ms/step\n",
      "3: 61.43%\n",
      "1: 23.98%\n",
      "0:  9.78%\n",
      "2:  4.80%\n"
     ]
    },
    {
     "name": "stderr",
     "output_type": "stream",
     "text": [
      "C:\\Users\\Francisco\\AppData\\Local\\Temp\\ipykernel_7888\\1888577245.py:20: FutureWarning: The frame.append method is deprecated and will be removed from pandas in a future version. Use pandas.concat instead.\n",
      "  df = df.append(nueva_fila, ignore_index=True)\n"
     ]
    },
    {
     "name": "stdout",
     "output_type": "stream",
     "text": [
      "1/1 [==============================] - 0s 20ms/step\n",
      "3: 86.90%\n",
      "1: 11.70%\n",
      "2:  0.92%\n",
      "0:  0.48%\n",
      "1/1 [==============================] - 0s 22ms/step\n",
      "3: 69.22%\n",
      "2: 21.08%\n",
      "1:  6.98%\n",
      "0:  2.72%\n",
      "1/1 [==============================] - 0s 21ms/step\n",
      "3: 48.71%\n",
      "1: 19.67%\n",
      "0: 16.93%\n",
      "2: 14.69%\n"
     ]
    },
    {
     "name": "stderr",
     "output_type": "stream",
     "text": [
      "C:\\Users\\Francisco\\AppData\\Local\\Temp\\ipykernel_7888\\1888577245.py:20: FutureWarning: The frame.append method is deprecated and will be removed from pandas in a future version. Use pandas.concat instead.\n",
      "  df = df.append(nueva_fila, ignore_index=True)\n"
     ]
    },
    {
     "name": "stdout",
     "output_type": "stream",
     "text": [
      "1/1 [==============================] - 0s 20ms/step\n",
      "3: 92.71%\n",
      "1:  6.93%\n",
      "2:  0.25%\n",
      "0:  0.11%\n",
      "1/1 [==============================] - 0s 22ms/step\n",
      "3: 68.19%\n",
      "2: 21.12%\n",
      "1:  7.66%\n",
      "0:  3.04%\n",
      "1/1 [==============================] - 0s 21ms/step\n",
      "3: 62.85%\n",
      "1: 23.94%\n",
      "0:  9.04%\n",
      "2:  4.16%\n"
     ]
    },
    {
     "name": "stderr",
     "output_type": "stream",
     "text": [
      "C:\\Users\\Francisco\\AppData\\Local\\Temp\\ipykernel_7888\\1888577245.py:20: FutureWarning: The frame.append method is deprecated and will be removed from pandas in a future version. Use pandas.concat instead.\n",
      "  df = df.append(nueva_fila, ignore_index=True)\n"
     ]
    },
    {
     "name": "stdout",
     "output_type": "stream",
     "text": [
      "1/1 [==============================] - 0s 25ms/step\n",
      "3: 53.54%\n",
      "0: 38.85%\n",
      "1:  6.16%\n",
      "2:  1.45%\n",
      "1/1 [==============================] - 0s 24ms/step\n",
      "3: 65.05%\n",
      "2: 21.69%\n",
      "1:  8.37%\n",
      "0:  4.90%\n",
      "1/1 [==============================] - 0s 22ms/step\n",
      "3: 67.75%\n",
      "1: 23.36%\n",
      "0:  6.61%\n",
      "2:  2.29%\n"
     ]
    },
    {
     "name": "stderr",
     "output_type": "stream",
     "text": [
      "C:\\Users\\Francisco\\AppData\\Local\\Temp\\ipykernel_7888\\1888577245.py:20: FutureWarning: The frame.append method is deprecated and will be removed from pandas in a future version. Use pandas.concat instead.\n",
      "  df = df.append(nueva_fila, ignore_index=True)\n"
     ]
    },
    {
     "name": "stdout",
     "output_type": "stream",
     "text": [
      "1/1 [==============================] - 0s 21ms/step\n",
      "3: 66.98%\n",
      "0: 29.16%\n",
      "1:  3.47%\n",
      "2:  0.38%\n",
      "1/1 [==============================] - 0s 20ms/step\n",
      "3: 67.67%\n",
      "2: 21.10%\n",
      "1:  7.75%\n",
      "0:  3.47%\n",
      "1/1 [==============================] - 0s 23ms/step\n",
      "3: 67.62%\n",
      "1: 23.63%\n",
      "0:  6.54%\n",
      "2:  2.21%\n"
     ]
    },
    {
     "name": "stderr",
     "output_type": "stream",
     "text": [
      "C:\\Users\\Francisco\\AppData\\Local\\Temp\\ipykernel_7888\\1888577245.py:20: FutureWarning: The frame.append method is deprecated and will be removed from pandas in a future version. Use pandas.concat instead.\n",
      "  df = df.append(nueva_fila, ignore_index=True)\n"
     ]
    },
    {
     "name": "stdout",
     "output_type": "stream",
     "text": [
      "1/1 [==============================] - 0s 20ms/step\n",
      "3: 96.52%\n",
      "0:  1.68%\n",
      "1:  1.55%\n",
      "2:  0.24%\n",
      "1/1 [==============================] - 0s 20ms/step\n",
      "3: 57.35%\n",
      "2: 21.06%\n",
      "1: 13.65%\n",
      "0:  7.94%\n",
      "1/1 [==============================] - 0s 22ms/step\n",
      "3: 68.26%\n",
      "1: 22.83%\n",
      "0:  6.63%\n",
      "2:  2.27%\n"
     ]
    },
    {
     "name": "stderr",
     "output_type": "stream",
     "text": [
      "C:\\Users\\Francisco\\AppData\\Local\\Temp\\ipykernel_7888\\1888577245.py:20: FutureWarning: The frame.append method is deprecated and will be removed from pandas in a future version. Use pandas.concat instead.\n",
      "  df = df.append(nueva_fila, ignore_index=True)\n"
     ]
    },
    {
     "name": "stdout",
     "output_type": "stream",
     "text": [
      "1/1 [==============================] - 0s 23ms/step\n",
      "3: 76.33%\n",
      "0: 12.86%\n",
      "1:  9.78%\n",
      "2:  1.04%\n",
      "1/1 [==============================] - 0s 20ms/step\n",
      "3: 70.45%\n",
      "2: 20.73%\n",
      "1:  6.47%\n",
      "0:  2.35%\n",
      "1/1 [==============================] - 0s 21ms/step\n",
      "3: 69.20%\n",
      "1: 22.48%\n",
      "0:  6.25%\n",
      "2:  2.07%\n"
     ]
    },
    {
     "name": "stderr",
     "output_type": "stream",
     "text": [
      "C:\\Users\\Francisco\\AppData\\Local\\Temp\\ipykernel_7888\\1888577245.py:20: FutureWarning: The frame.append method is deprecated and will be removed from pandas in a future version. Use pandas.concat instead.\n",
      "  df = df.append(nueva_fila, ignore_index=True)\n"
     ]
    },
    {
     "name": "stdout",
     "output_type": "stream",
     "text": [
      "1/1 [==============================] - 0s 23ms/step\n",
      "3: 51.92%\n",
      "1: 47.09%\n",
      "2:  0.90%\n",
      "0:  0.09%\n",
      "1/1 [==============================] - 0s 21ms/step\n",
      "3: 68.78%\n",
      "2: 21.34%\n",
      "1:  6.85%\n",
      "0:  3.03%\n",
      "1/1 [==============================] - 0s 22ms/step\n",
      "3: 36.79%\n",
      "1: 22.85%\n",
      "0: 20.98%\n",
      "2: 19.38%\n"
     ]
    },
    {
     "name": "stderr",
     "output_type": "stream",
     "text": [
      "C:\\Users\\Francisco\\AppData\\Local\\Temp\\ipykernel_7888\\1888577245.py:20: FutureWarning: The frame.append method is deprecated and will be removed from pandas in a future version. Use pandas.concat instead.\n",
      "  df = df.append(nueva_fila, ignore_index=True)\n"
     ]
    },
    {
     "name": "stdout",
     "output_type": "stream",
     "text": [
      "1/1 [==============================] - 0s 21ms/step\n",
      "3: 92.98%\n",
      "1:  4.66%\n",
      "0:  1.65%\n",
      "2:  0.71%\n",
      "1/1 [==============================] - 0s 21ms/step\n",
      "3: 50.68%\n",
      "2: 21.02%\n",
      "1: 14.43%\n",
      "0: 13.87%\n",
      "1/1 [==============================] - 0s 23ms/step\n",
      "3: 33.40%\n",
      "2: 23.37%\n",
      "0: 22.56%\n",
      "1: 20.68%\n"
     ]
    },
    {
     "name": "stderr",
     "output_type": "stream",
     "text": [
      "C:\\Users\\Francisco\\AppData\\Local\\Temp\\ipykernel_7888\\1888577245.py:20: FutureWarning: The frame.append method is deprecated and will be removed from pandas in a future version. Use pandas.concat instead.\n",
      "  df = df.append(nueva_fila, ignore_index=True)\n"
     ]
    }
   ],
   "source": [
    "# Ruta del directorio que deseas leer\n",
    "dir = f'D://Facultad//PPS//Proyecto Ecografia//Noviembre2020'\n",
    "df = pd.DataFrame({'Direccion':[], 'Target Transformer':[], 'Target GRU':[], 'Target LSTM':[]})\n",
    "\n",
    "def MostrarFuncion(df, directorio):\n",
    "\n",
    "    for archivo in os.listdir(directorio):\n",
    "\n",
    "        ruta_completa = os.path.join(directorio, archivo)\n",
    "        \n",
    "        if os.path.isdir(ruta_completa):\n",
    "            df = MostrarFuncion(df, ruta_completa)\n",
    "        if os.path.isfile(ruta_completa) and ruta_completa.split('.')[-1] == 'mov':\n",
    "            nueva_fila = {\n",
    "                'Direccion':ruta_completa, \n",
    "                'Target Transformer' : predict_action(ruta_completa, 0), \n",
    "                'Target GRU' : predict_action(ruta_completa, 1), \n",
    "                'Target LSTM' : predict_action(ruta_completa, 2)\n",
    "                }\n",
    "            df = df.append(nueva_fila, ignore_index=True)\n",
    "\n",
    "    return df\n",
    "\n",
    "display(df)\n",
    "df = MostrarFuncion(df, dir)\n",
    "df.to_csv('resultados.csv', index=False)"
   ]
  },
  {
   "cell_type": "code",
   "execution_count": 21,
   "metadata": {},
   "outputs": [
    {
     "data": {
      "text/html": [
       "<div>\n",
       "<style scoped>\n",
       "    .dataframe tbody tr th:only-of-type {\n",
       "        vertical-align: middle;\n",
       "    }\n",
       "\n",
       "    .dataframe tbody tr th {\n",
       "        vertical-align: top;\n",
       "    }\n",
       "\n",
       "    .dataframe thead th {\n",
       "        text-align: right;\n",
       "    }\n",
       "</style>\n",
       "<table border=\"1\" class=\"dataframe\">\n",
       "  <thead>\n",
       "    <tr style=\"text-align: right;\">\n",
       "      <th></th>\n",
       "      <th>Direccion</th>\n",
       "      <th>Target DENSE</th>\n",
       "    </tr>\n",
       "  </thead>\n",
       "  <tbody>\n",
       "  </tbody>\n",
       "</table>\n",
       "</div>"
      ],
      "text/plain": [
       "Empty DataFrame\n",
       "Columns: [Direccion, Target DENSE]\n",
       "Index: []"
      ]
     },
     "metadata": {},
     "output_type": "display_data"
    },
    {
     "name": "stdout",
     "output_type": "stream",
     "text": [
      "1/1 [==============================] - 0s 15ms/step\n",
      "3: 78.03%\n",
      "1: 14.69%\n",
      "0:  7.22%\n",
      "2:  0.06%\n"
     ]
    },
    {
     "name": "stderr",
     "output_type": "stream",
     "text": [
      "C:\\Users\\Francisco\\AppData\\Local\\Temp\\ipykernel_7812\\2194254065.py:18: FutureWarning: The frame.append method is deprecated and will be removed from pandas in a future version. Use pandas.concat instead.\n",
      "  df = df.append(nueva_fila, ignore_index=True)\n"
     ]
    },
    {
     "name": "stdout",
     "output_type": "stream",
     "text": [
      "1/1 [==============================] - 0s 15ms/step\n",
      "3: 100.00%\n",
      "1:  0.00%\n",
      "0:  0.00%\n",
      "2:  0.00%\n"
     ]
    },
    {
     "name": "stderr",
     "output_type": "stream",
     "text": [
      "C:\\Users\\Francisco\\AppData\\Local\\Temp\\ipykernel_7812\\2194254065.py:18: FutureWarning: The frame.append method is deprecated and will be removed from pandas in a future version. Use pandas.concat instead.\n",
      "  df = df.append(nueva_fila, ignore_index=True)\n"
     ]
    },
    {
     "name": "stdout",
     "output_type": "stream",
     "text": [
      "1/1 [==============================] - 0s 16ms/step\n",
      "3: 86.10%\n",
      "1: 13.79%\n",
      "2:  0.09%\n",
      "0:  0.02%\n"
     ]
    },
    {
     "name": "stderr",
     "output_type": "stream",
     "text": [
      "C:\\Users\\Francisco\\AppData\\Local\\Temp\\ipykernel_7812\\2194254065.py:18: FutureWarning: The frame.append method is deprecated and will be removed from pandas in a future version. Use pandas.concat instead.\n",
      "  df = df.append(nueva_fila, ignore_index=True)\n"
     ]
    },
    {
     "name": "stdout",
     "output_type": "stream",
     "text": [
      "1/1 [==============================] - 0s 23ms/step\n",
      "3: 97.06%\n",
      "1:  2.94%\n",
      "0:  0.00%\n",
      "2:  0.00%\n"
     ]
    },
    {
     "name": "stderr",
     "output_type": "stream",
     "text": [
      "C:\\Users\\Francisco\\AppData\\Local\\Temp\\ipykernel_7812\\2194254065.py:18: FutureWarning: The frame.append method is deprecated and will be removed from pandas in a future version. Use pandas.concat instead.\n",
      "  df = df.append(nueva_fila, ignore_index=True)\n"
     ]
    },
    {
     "name": "stdout",
     "output_type": "stream",
     "text": [
      "1/1 [==============================] - 0s 23ms/step\n",
      "3: 86.10%\n",
      "1: 13.79%\n",
      "2:  0.09%\n",
      "0:  0.02%\n"
     ]
    },
    {
     "name": "stderr",
     "output_type": "stream",
     "text": [
      "C:\\Users\\Francisco\\AppData\\Local\\Temp\\ipykernel_7812\\2194254065.py:18: FutureWarning: The frame.append method is deprecated and will be removed from pandas in a future version. Use pandas.concat instead.\n",
      "  df = df.append(nueva_fila, ignore_index=True)\n"
     ]
    },
    {
     "name": "stdout",
     "output_type": "stream",
     "text": [
      "1/1 [==============================] - 0s 16ms/step\n",
      "3: 97.06%\n",
      "1:  2.94%\n",
      "0:  0.00%\n",
      "2:  0.00%\n"
     ]
    },
    {
     "name": "stderr",
     "output_type": "stream",
     "text": [
      "C:\\Users\\Francisco\\AppData\\Local\\Temp\\ipykernel_7812\\2194254065.py:18: FutureWarning: The frame.append method is deprecated and will be removed from pandas in a future version. Use pandas.concat instead.\n",
      "  df = df.append(nueva_fila, ignore_index=True)\n"
     ]
    },
    {
     "name": "stdout",
     "output_type": "stream",
     "text": [
      "1/1 [==============================] - 0s 19ms/step\n",
      "3: 99.36%\n",
      "1:  0.64%\n",
      "2:  0.00%\n",
      "0:  0.00%\n"
     ]
    },
    {
     "name": "stderr",
     "output_type": "stream",
     "text": [
      "C:\\Users\\Francisco\\AppData\\Local\\Temp\\ipykernel_7812\\2194254065.py:18: FutureWarning: The frame.append method is deprecated and will be removed from pandas in a future version. Use pandas.concat instead.\n",
      "  df = df.append(nueva_fila, ignore_index=True)\n"
     ]
    },
    {
     "name": "stdout",
     "output_type": "stream",
     "text": [
      "1/1 [==============================] - 0s 17ms/step\n",
      "3: 56.41%\n",
      "1: 43.21%\n",
      "0:  0.25%\n",
      "2:  0.14%\n"
     ]
    },
    {
     "name": "stderr",
     "output_type": "stream",
     "text": [
      "C:\\Users\\Francisco\\AppData\\Local\\Temp\\ipykernel_7812\\2194254065.py:18: FutureWarning: The frame.append method is deprecated and will be removed from pandas in a future version. Use pandas.concat instead.\n",
      "  df = df.append(nueva_fila, ignore_index=True)\n"
     ]
    },
    {
     "name": "stdout",
     "output_type": "stream",
     "text": [
      "1/1 [==============================] - 0s 16ms/step\n",
      "3: 94.14%\n",
      "1:  3.76%\n",
      "2:  1.14%\n",
      "0:  0.96%\n"
     ]
    },
    {
     "name": "stderr",
     "output_type": "stream",
     "text": [
      "C:\\Users\\Francisco\\AppData\\Local\\Temp\\ipykernel_7812\\2194254065.py:18: FutureWarning: The frame.append method is deprecated and will be removed from pandas in a future version. Use pandas.concat instead.\n",
      "  df = df.append(nueva_fila, ignore_index=True)\n"
     ]
    },
    {
     "name": "stdout",
     "output_type": "stream",
     "text": [
      "1/1 [==============================] - 0s 22ms/step\n",
      "3: 99.94%\n",
      "1:  0.06%\n",
      "0:  0.00%\n",
      "2:  0.00%\n"
     ]
    },
    {
     "name": "stderr",
     "output_type": "stream",
     "text": [
      "C:\\Users\\Francisco\\AppData\\Local\\Temp\\ipykernel_7812\\2194254065.py:18: FutureWarning: The frame.append method is deprecated and will be removed from pandas in a future version. Use pandas.concat instead.\n",
      "  df = df.append(nueva_fila, ignore_index=True)\n"
     ]
    },
    {
     "name": "stdout",
     "output_type": "stream",
     "text": [
      "1/1 [==============================] - 0s 15ms/step\n",
      "3: 97.69%\n",
      "1:  2.05%\n",
      "0:  0.25%\n",
      "2:  0.01%\n"
     ]
    },
    {
     "name": "stderr",
     "output_type": "stream",
     "text": [
      "C:\\Users\\Francisco\\AppData\\Local\\Temp\\ipykernel_7812\\2194254065.py:18: FutureWarning: The frame.append method is deprecated and will be removed from pandas in a future version. Use pandas.concat instead.\n",
      "  df = df.append(nueva_fila, ignore_index=True)\n"
     ]
    },
    {
     "name": "stdout",
     "output_type": "stream",
     "text": [
      "1/1 [==============================] - 0s 17ms/step\n",
      "1: 94.93%\n",
      "3:  5.00%\n",
      "2:  0.07%\n",
      "0:  0.00%\n"
     ]
    },
    {
     "name": "stderr",
     "output_type": "stream",
     "text": [
      "C:\\Users\\Francisco\\AppData\\Local\\Temp\\ipykernel_7812\\2194254065.py:18: FutureWarning: The frame.append method is deprecated and will be removed from pandas in a future version. Use pandas.concat instead.\n",
      "  df = df.append(nueva_fila, ignore_index=True)\n"
     ]
    },
    {
     "name": "stdout",
     "output_type": "stream",
     "text": [
      "1/1 [==============================] - 0s 17ms/step\n",
      "1: 56.04%\n",
      "3: 43.84%\n",
      "2:  0.10%\n",
      "0:  0.01%\n"
     ]
    },
    {
     "name": "stderr",
     "output_type": "stream",
     "text": [
      "C:\\Users\\Francisco\\AppData\\Local\\Temp\\ipykernel_7812\\2194254065.py:18: FutureWarning: The frame.append method is deprecated and will be removed from pandas in a future version. Use pandas.concat instead.\n",
      "  df = df.append(nueva_fila, ignore_index=True)\n"
     ]
    },
    {
     "name": "stdout",
     "output_type": "stream",
     "text": [
      "1/1 [==============================] - 0s 15ms/step\n",
      "3: 97.95%\n",
      "1:  2.04%\n",
      "2:  0.00%\n",
      "0:  0.00%\n"
     ]
    },
    {
     "name": "stderr",
     "output_type": "stream",
     "text": [
      "C:\\Users\\Francisco\\AppData\\Local\\Temp\\ipykernel_7812\\2194254065.py:18: FutureWarning: The frame.append method is deprecated and will be removed from pandas in a future version. Use pandas.concat instead.\n",
      "  df = df.append(nueva_fila, ignore_index=True)\n"
     ]
    },
    {
     "name": "stdout",
     "output_type": "stream",
     "text": [
      "1/1 [==============================] - 0s 16ms/step\n",
      "3: 99.83%\n",
      "1:  0.17%\n",
      "0:  0.00%\n",
      "2:  0.00%\n"
     ]
    },
    {
     "name": "stderr",
     "output_type": "stream",
     "text": [
      "C:\\Users\\Francisco\\AppData\\Local\\Temp\\ipykernel_7812\\2194254065.py:18: FutureWarning: The frame.append method is deprecated and will be removed from pandas in a future version. Use pandas.concat instead.\n",
      "  df = df.append(nueva_fila, ignore_index=True)\n"
     ]
    },
    {
     "name": "stdout",
     "output_type": "stream",
     "text": [
      "1/1 [==============================] - 0s 15ms/step\n",
      "3: 99.88%\n",
      "1:  0.12%\n",
      "0:  0.00%\n",
      "2:  0.00%\n"
     ]
    },
    {
     "name": "stderr",
     "output_type": "stream",
     "text": [
      "C:\\Users\\Francisco\\AppData\\Local\\Temp\\ipykernel_7812\\2194254065.py:18: FutureWarning: The frame.append method is deprecated and will be removed from pandas in a future version. Use pandas.concat instead.\n",
      "  df = df.append(nueva_fila, ignore_index=True)\n"
     ]
    },
    {
     "name": "stdout",
     "output_type": "stream",
     "text": [
      "1/1 [==============================] - 0s 17ms/step\n",
      "1: 91.76%\n",
      "3:  8.22%\n",
      "2:  0.03%\n",
      "0:  0.00%\n"
     ]
    },
    {
     "name": "stderr",
     "output_type": "stream",
     "text": [
      "C:\\Users\\Francisco\\AppData\\Local\\Temp\\ipykernel_7812\\2194254065.py:18: FutureWarning: The frame.append method is deprecated and will be removed from pandas in a future version. Use pandas.concat instead.\n",
      "  df = df.append(nueva_fila, ignore_index=True)\n"
     ]
    },
    {
     "name": "stdout",
     "output_type": "stream",
     "text": [
      "1/1 [==============================] - 0s 16ms/step\n",
      "1: 97.00%\n",
      "3:  2.88%\n",
      "2:  0.12%\n",
      "0:  0.00%\n"
     ]
    },
    {
     "name": "stderr",
     "output_type": "stream",
     "text": [
      "C:\\Users\\Francisco\\AppData\\Local\\Temp\\ipykernel_7812\\2194254065.py:18: FutureWarning: The frame.append method is deprecated and will be removed from pandas in a future version. Use pandas.concat instead.\n",
      "  df = df.append(nueva_fila, ignore_index=True)\n"
     ]
    },
    {
     "name": "stdout",
     "output_type": "stream",
     "text": [
      "1/1 [==============================] - 0s 15ms/step\n",
      "3: 98.39%\n",
      "1:  1.44%\n",
      "0:  0.16%\n",
      "2:  0.01%\n"
     ]
    },
    {
     "name": "stderr",
     "output_type": "stream",
     "text": [
      "C:\\Users\\Francisco\\AppData\\Local\\Temp\\ipykernel_7812\\2194254065.py:18: FutureWarning: The frame.append method is deprecated and will be removed from pandas in a future version. Use pandas.concat instead.\n",
      "  df = df.append(nueva_fila, ignore_index=True)\n"
     ]
    },
    {
     "name": "stdout",
     "output_type": "stream",
     "text": [
      "1/1 [==============================] - 0s 17ms/step\n",
      "3: 99.29%\n",
      "1:  0.71%\n",
      "2:  0.00%\n",
      "0:  0.00%\n"
     ]
    },
    {
     "name": "stderr",
     "output_type": "stream",
     "text": [
      "C:\\Users\\Francisco\\AppData\\Local\\Temp\\ipykernel_7812\\2194254065.py:18: FutureWarning: The frame.append method is deprecated and will be removed from pandas in a future version. Use pandas.concat instead.\n",
      "  df = df.append(nueva_fila, ignore_index=True)\n"
     ]
    },
    {
     "name": "stdout",
     "output_type": "stream",
     "text": [
      "1/1 [==============================] - 0s 16ms/step\n",
      "3: 65.02%\n",
      "2: 24.81%\n",
      "1: 10.16%\n",
      "0:  0.00%\n"
     ]
    },
    {
     "name": "stderr",
     "output_type": "stream",
     "text": [
      "C:\\Users\\Francisco\\AppData\\Local\\Temp\\ipykernel_7812\\2194254065.py:18: FutureWarning: The frame.append method is deprecated and will be removed from pandas in a future version. Use pandas.concat instead.\n",
      "  df = df.append(nueva_fila, ignore_index=True)\n"
     ]
    },
    {
     "name": "stdout",
     "output_type": "stream",
     "text": [
      "1/1 [==============================] - 0s 15ms/step\n",
      "3: 97.80%\n",
      "1:  1.87%\n",
      "2:  0.33%\n",
      "0:  0.00%\n"
     ]
    },
    {
     "name": "stderr",
     "output_type": "stream",
     "text": [
      "C:\\Users\\Francisco\\AppData\\Local\\Temp\\ipykernel_7812\\2194254065.py:18: FutureWarning: The frame.append method is deprecated and will be removed from pandas in a future version. Use pandas.concat instead.\n",
      "  df = df.append(nueva_fila, ignore_index=True)\n"
     ]
    },
    {
     "name": "stdout",
     "output_type": "stream",
     "text": [
      "1/1 [==============================] - 0s 16ms/step\n",
      "3: 93.16%\n",
      "1:  6.42%\n",
      "0:  0.40%\n",
      "2:  0.02%\n"
     ]
    },
    {
     "name": "stderr",
     "output_type": "stream",
     "text": [
      "C:\\Users\\Francisco\\AppData\\Local\\Temp\\ipykernel_7812\\2194254065.py:18: FutureWarning: The frame.append method is deprecated and will be removed from pandas in a future version. Use pandas.concat instead.\n",
      "  df = df.append(nueva_fila, ignore_index=True)\n"
     ]
    },
    {
     "name": "stdout",
     "output_type": "stream",
     "text": [
      "1/1 [==============================] - 0s 15ms/step\n",
      "3: 99.83%\n",
      "1:  0.17%\n",
      "0:  0.00%\n",
      "2:  0.00%\n"
     ]
    },
    {
     "name": "stderr",
     "output_type": "stream",
     "text": [
      "C:\\Users\\Francisco\\AppData\\Local\\Temp\\ipykernel_7812\\2194254065.py:18: FutureWarning: The frame.append method is deprecated and will be removed from pandas in a future version. Use pandas.concat instead.\n",
      "  df = df.append(nueva_fila, ignore_index=True)\n"
     ]
    },
    {
     "name": "stdout",
     "output_type": "stream",
     "text": [
      "1/1 [==============================] - 0s 16ms/step\n",
      "3: 91.09%\n",
      "1:  4.64%\n",
      "0:  4.11%\n",
      "2:  0.16%\n"
     ]
    },
    {
     "name": "stderr",
     "output_type": "stream",
     "text": [
      "C:\\Users\\Francisco\\AppData\\Local\\Temp\\ipykernel_7812\\2194254065.py:18: FutureWarning: The frame.append method is deprecated and will be removed from pandas in a future version. Use pandas.concat instead.\n",
      "  df = df.append(nueva_fila, ignore_index=True)\n"
     ]
    },
    {
     "name": "stdout",
     "output_type": "stream",
     "text": [
      "1/1 [==============================] - 0s 17ms/step\n",
      "3: 91.40%\n",
      "0:  5.38%\n",
      "1:  3.09%\n",
      "2:  0.13%\n"
     ]
    },
    {
     "name": "stderr",
     "output_type": "stream",
     "text": [
      "C:\\Users\\Francisco\\AppData\\Local\\Temp\\ipykernel_7812\\2194254065.py:18: FutureWarning: The frame.append method is deprecated and will be removed from pandas in a future version. Use pandas.concat instead.\n",
      "  df = df.append(nueva_fila, ignore_index=True)\n"
     ]
    },
    {
     "name": "stdout",
     "output_type": "stream",
     "text": [
      "1/1 [==============================] - 0s 16ms/step\n",
      "1: 65.37%\n",
      "3: 29.48%\n",
      "0:  3.17%\n",
      "2:  1.99%\n"
     ]
    },
    {
     "name": "stderr",
     "output_type": "stream",
     "text": [
      "C:\\Users\\Francisco\\AppData\\Local\\Temp\\ipykernel_7812\\2194254065.py:18: FutureWarning: The frame.append method is deprecated and will be removed from pandas in a future version. Use pandas.concat instead.\n",
      "  df = df.append(nueva_fila, ignore_index=True)\n"
     ]
    },
    {
     "name": "stdout",
     "output_type": "stream",
     "text": [
      "1/1 [==============================] - 0s 15ms/step\n",
      "3: 66.78%\n",
      "1: 31.66%\n",
      "2:  0.87%\n",
      "0:  0.69%\n"
     ]
    },
    {
     "name": "stderr",
     "output_type": "stream",
     "text": [
      "C:\\Users\\Francisco\\AppData\\Local\\Temp\\ipykernel_7812\\2194254065.py:18: FutureWarning: The frame.append method is deprecated and will be removed from pandas in a future version. Use pandas.concat instead.\n",
      "  df = df.append(nueva_fila, ignore_index=True)\n"
     ]
    },
    {
     "name": "stdout",
     "output_type": "stream",
     "text": [
      "1/1 [==============================] - 0s 16ms/step\n",
      "3: 72.15%\n",
      "1: 27.52%\n",
      "2:  0.24%\n",
      "0:  0.09%\n"
     ]
    },
    {
     "name": "stderr",
     "output_type": "stream",
     "text": [
      "C:\\Users\\Francisco\\AppData\\Local\\Temp\\ipykernel_7812\\2194254065.py:18: FutureWarning: The frame.append method is deprecated and will be removed from pandas in a future version. Use pandas.concat instead.\n",
      "  df = df.append(nueva_fila, ignore_index=True)\n"
     ]
    },
    {
     "name": "stdout",
     "output_type": "stream",
     "text": [
      "1/1 [==============================] - 0s 15ms/step\n",
      "3: 66.78%\n",
      "1: 31.66%\n",
      "2:  0.87%\n",
      "0:  0.69%\n"
     ]
    },
    {
     "name": "stderr",
     "output_type": "stream",
     "text": [
      "C:\\Users\\Francisco\\AppData\\Local\\Temp\\ipykernel_7812\\2194254065.py:18: FutureWarning: The frame.append method is deprecated and will be removed from pandas in a future version. Use pandas.concat instead.\n",
      "  df = df.append(nueva_fila, ignore_index=True)\n"
     ]
    },
    {
     "name": "stdout",
     "output_type": "stream",
     "text": [
      "1/1 [==============================] - 0s 15ms/step\n",
      "0: 68.79%\n",
      "3: 26.52%\n",
      "1:  4.46%\n",
      "2:  0.22%\n"
     ]
    },
    {
     "name": "stderr",
     "output_type": "stream",
     "text": [
      "C:\\Users\\Francisco\\AppData\\Local\\Temp\\ipykernel_7812\\2194254065.py:18: FutureWarning: The frame.append method is deprecated and will be removed from pandas in a future version. Use pandas.concat instead.\n",
      "  df = df.append(nueva_fila, ignore_index=True)\n"
     ]
    },
    {
     "name": "stdout",
     "output_type": "stream",
     "text": [
      "1/1 [==============================] - 0s 15ms/step\n",
      "3: 53.42%\n",
      "1: 33.18%\n",
      "2: 11.96%\n",
      "0:  1.44%\n"
     ]
    },
    {
     "name": "stderr",
     "output_type": "stream",
     "text": [
      "C:\\Users\\Francisco\\AppData\\Local\\Temp\\ipykernel_7812\\2194254065.py:18: FutureWarning: The frame.append method is deprecated and will be removed from pandas in a future version. Use pandas.concat instead.\n",
      "  df = df.append(nueva_fila, ignore_index=True)\n"
     ]
    },
    {
     "name": "stdout",
     "output_type": "stream",
     "text": [
      "1/1 [==============================] - 0s 15ms/step\n",
      "3: 98.04%\n",
      "1:  1.14%\n",
      "2:  0.73%\n",
      "0:  0.09%\n"
     ]
    },
    {
     "name": "stderr",
     "output_type": "stream",
     "text": [
      "C:\\Users\\Francisco\\AppData\\Local\\Temp\\ipykernel_7812\\2194254065.py:18: FutureWarning: The frame.append method is deprecated and will be removed from pandas in a future version. Use pandas.concat instead.\n",
      "  df = df.append(nueva_fila, ignore_index=True)\n"
     ]
    },
    {
     "name": "stdout",
     "output_type": "stream",
     "text": [
      "1/1 [==============================] - 0s 16ms/step\n",
      "3: 89.29%\n",
      "1:  9.09%\n",
      "0:  1.52%\n",
      "2:  0.11%\n"
     ]
    },
    {
     "name": "stderr",
     "output_type": "stream",
     "text": [
      "C:\\Users\\Francisco\\AppData\\Local\\Temp\\ipykernel_7812\\2194254065.py:18: FutureWarning: The frame.append method is deprecated and will be removed from pandas in a future version. Use pandas.concat instead.\n",
      "  df = df.append(nueva_fila, ignore_index=True)\n"
     ]
    },
    {
     "name": "stdout",
     "output_type": "stream",
     "text": [
      "1/1 [==============================] - 0s 22ms/step\n",
      "3: 100.00%\n",
      "1:  0.00%\n",
      "0:  0.00%\n",
      "2:  0.00%\n"
     ]
    },
    {
     "name": "stderr",
     "output_type": "stream",
     "text": [
      "C:\\Users\\Francisco\\AppData\\Local\\Temp\\ipykernel_7812\\2194254065.py:18: FutureWarning: The frame.append method is deprecated and will be removed from pandas in a future version. Use pandas.concat instead.\n",
      "  df = df.append(nueva_fila, ignore_index=True)\n"
     ]
    },
    {
     "name": "stdout",
     "output_type": "stream",
     "text": [
      "1/1 [==============================] - 0s 16ms/step\n",
      "3: 97.77%\n",
      "1:  2.15%\n",
      "2:  0.06%\n",
      "0:  0.02%\n"
     ]
    },
    {
     "name": "stderr",
     "output_type": "stream",
     "text": [
      "C:\\Users\\Francisco\\AppData\\Local\\Temp\\ipykernel_7812\\2194254065.py:18: FutureWarning: The frame.append method is deprecated and will be removed from pandas in a future version. Use pandas.concat instead.\n",
      "  df = df.append(nueva_fila, ignore_index=True)\n"
     ]
    },
    {
     "name": "stdout",
     "output_type": "stream",
     "text": [
      "1/1 [==============================] - 0s 15ms/step\n",
      "3: 99.78%\n",
      "1:  0.22%\n",
      "0:  0.00%\n",
      "2:  0.00%\n"
     ]
    },
    {
     "name": "stderr",
     "output_type": "stream",
     "text": [
      "C:\\Users\\Francisco\\AppData\\Local\\Temp\\ipykernel_7812\\2194254065.py:18: FutureWarning: The frame.append method is deprecated and will be removed from pandas in a future version. Use pandas.concat instead.\n",
      "  df = df.append(nueva_fila, ignore_index=True)\n"
     ]
    },
    {
     "name": "stdout",
     "output_type": "stream",
     "text": [
      "1/1 [==============================] - 0s 15ms/step\n",
      "3: 99.91%\n",
      "1:  0.09%\n",
      "0:  0.00%\n",
      "2:  0.00%\n"
     ]
    },
    {
     "name": "stderr",
     "output_type": "stream",
     "text": [
      "C:\\Users\\Francisco\\AppData\\Local\\Temp\\ipykernel_7812\\2194254065.py:18: FutureWarning: The frame.append method is deprecated and will be removed from pandas in a future version. Use pandas.concat instead.\n",
      "  df = df.append(nueva_fila, ignore_index=True)\n"
     ]
    },
    {
     "name": "stdout",
     "output_type": "stream",
     "text": [
      "1/1 [==============================] - 0s 16ms/step\n",
      "3: 98.42%\n",
      "1:  1.58%\n",
      "0:  0.00%\n",
      "2:  0.00%\n"
     ]
    },
    {
     "name": "stderr",
     "output_type": "stream",
     "text": [
      "C:\\Users\\Francisco\\AppData\\Local\\Temp\\ipykernel_7812\\2194254065.py:18: FutureWarning: The frame.append method is deprecated and will be removed from pandas in a future version. Use pandas.concat instead.\n",
      "  df = df.append(nueva_fila, ignore_index=True)\n"
     ]
    },
    {
     "name": "stdout",
     "output_type": "stream",
     "text": [
      "1/1 [==============================] - 0s 16ms/step\n",
      "1: 71.50%\n",
      "2: 25.22%\n",
      "3:  3.23%\n",
      "0:  0.04%\n"
     ]
    },
    {
     "name": "stderr",
     "output_type": "stream",
     "text": [
      "C:\\Users\\Francisco\\AppData\\Local\\Temp\\ipykernel_7812\\2194254065.py:18: FutureWarning: The frame.append method is deprecated and will be removed from pandas in a future version. Use pandas.concat instead.\n",
      "  df = df.append(nueva_fila, ignore_index=True)\n"
     ]
    },
    {
     "name": "stdout",
     "output_type": "stream",
     "text": [
      "1/1 [==============================] - 0s 16ms/step\n",
      "1: 91.76%\n",
      "3:  8.22%\n",
      "2:  0.03%\n",
      "0:  0.00%\n"
     ]
    },
    {
     "name": "stderr",
     "output_type": "stream",
     "text": [
      "C:\\Users\\Francisco\\AppData\\Local\\Temp\\ipykernel_7812\\2194254065.py:18: FutureWarning: The frame.append method is deprecated and will be removed from pandas in a future version. Use pandas.concat instead.\n",
      "  df = df.append(nueva_fila, ignore_index=True)\n"
     ]
    },
    {
     "name": "stdout",
     "output_type": "stream",
     "text": [
      "1/1 [==============================] - 0s 17ms/step\n",
      "1: 97.00%\n",
      "3:  2.88%\n",
      "2:  0.12%\n",
      "0:  0.00%\n"
     ]
    },
    {
     "name": "stderr",
     "output_type": "stream",
     "text": [
      "C:\\Users\\Francisco\\AppData\\Local\\Temp\\ipykernel_7812\\2194254065.py:18: FutureWarning: The frame.append method is deprecated and will be removed from pandas in a future version. Use pandas.concat instead.\n",
      "  df = df.append(nueva_fila, ignore_index=True)\n"
     ]
    },
    {
     "name": "stdout",
     "output_type": "stream",
     "text": [
      "1/1 [==============================] - 0s 15ms/step\n",
      "3: 98.87%\n",
      "1:  1.11%\n",
      "0:  0.02%\n",
      "2:  0.00%\n"
     ]
    },
    {
     "name": "stderr",
     "output_type": "stream",
     "text": [
      "C:\\Users\\Francisco\\AppData\\Local\\Temp\\ipykernel_7812\\2194254065.py:18: FutureWarning: The frame.append method is deprecated and will be removed from pandas in a future version. Use pandas.concat instead.\n",
      "  df = df.append(nueva_fila, ignore_index=True)\n"
     ]
    },
    {
     "name": "stdout",
     "output_type": "stream",
     "text": [
      "1/1 [==============================] - 0s 15ms/step\n",
      "1: 62.27%\n",
      "3: 36.34%\n",
      "2:  1.28%\n",
      "0:  0.11%\n"
     ]
    },
    {
     "name": "stderr",
     "output_type": "stream",
     "text": [
      "C:\\Users\\Francisco\\AppData\\Local\\Temp\\ipykernel_7812\\2194254065.py:18: FutureWarning: The frame.append method is deprecated and will be removed from pandas in a future version. Use pandas.concat instead.\n",
      "  df = df.append(nueva_fila, ignore_index=True)\n"
     ]
    },
    {
     "name": "stdout",
     "output_type": "stream",
     "text": [
      "1/1 [==============================] - 0s 15ms/step\n",
      "3: 92.06%\n",
      "1:  7.73%\n",
      "0:  0.16%\n",
      "2:  0.06%\n"
     ]
    },
    {
     "name": "stderr",
     "output_type": "stream",
     "text": [
      "C:\\Users\\Francisco\\AppData\\Local\\Temp\\ipykernel_7812\\2194254065.py:18: FutureWarning: The frame.append method is deprecated and will be removed from pandas in a future version. Use pandas.concat instead.\n",
      "  df = df.append(nueva_fila, ignore_index=True)\n"
     ]
    },
    {
     "name": "stdout",
     "output_type": "stream",
     "text": [
      "1/1 [==============================] - 0s 14ms/step\n",
      "3: 44.46%\n",
      "2: 37.27%\n",
      "1: 18.14%\n",
      "0:  0.12%\n"
     ]
    },
    {
     "name": "stderr",
     "output_type": "stream",
     "text": [
      "C:\\Users\\Francisco\\AppData\\Local\\Temp\\ipykernel_7812\\2194254065.py:18: FutureWarning: The frame.append method is deprecated and will be removed from pandas in a future version. Use pandas.concat instead.\n",
      "  df = df.append(nueva_fila, ignore_index=True)\n"
     ]
    },
    {
     "name": "stdout",
     "output_type": "stream",
     "text": [
      "1/1 [==============================] - 0s 16ms/step\n",
      "3: 83.07%\n",
      "1: 15.43%\n",
      "0:  1.32%\n",
      "2:  0.18%\n"
     ]
    },
    {
     "name": "stderr",
     "output_type": "stream",
     "text": [
      "C:\\Users\\Francisco\\AppData\\Local\\Temp\\ipykernel_7812\\2194254065.py:18: FutureWarning: The frame.append method is deprecated and will be removed from pandas in a future version. Use pandas.concat instead.\n",
      "  df = df.append(nueva_fila, ignore_index=True)\n"
     ]
    },
    {
     "name": "stdout",
     "output_type": "stream",
     "text": [
      "1/1 [==============================] - 0s 16ms/step\n",
      "3: 81.28%\n",
      "1: 18.11%\n",
      "2:  0.37%\n",
      "0:  0.25%\n"
     ]
    },
    {
     "name": "stderr",
     "output_type": "stream",
     "text": [
      "C:\\Users\\Francisco\\AppData\\Local\\Temp\\ipykernel_7812\\2194254065.py:18: FutureWarning: The frame.append method is deprecated and will be removed from pandas in a future version. Use pandas.concat instead.\n",
      "  df = df.append(nueva_fila, ignore_index=True)\n"
     ]
    },
    {
     "name": "stdout",
     "output_type": "stream",
     "text": [
      "1/1 [==============================] - 0s 14ms/step\n",
      "3: 79.91%\n",
      "1: 17.03%\n",
      "2:  2.14%\n",
      "0:  0.92%\n"
     ]
    },
    {
     "name": "stderr",
     "output_type": "stream",
     "text": [
      "C:\\Users\\Francisco\\AppData\\Local\\Temp\\ipykernel_7812\\2194254065.py:18: FutureWarning: The frame.append method is deprecated and will be removed from pandas in a future version. Use pandas.concat instead.\n",
      "  df = df.append(nueva_fila, ignore_index=True)\n"
     ]
    },
    {
     "name": "stdout",
     "output_type": "stream",
     "text": [
      "1/1 [==============================] - 0s 14ms/step\n",
      "3: 99.49%\n",
      "1:  0.50%\n",
      "0:  0.01%\n",
      "2:  0.00%\n"
     ]
    },
    {
     "name": "stderr",
     "output_type": "stream",
     "text": [
      "C:\\Users\\Francisco\\AppData\\Local\\Temp\\ipykernel_7812\\2194254065.py:18: FutureWarning: The frame.append method is deprecated and will be removed from pandas in a future version. Use pandas.concat instead.\n",
      "  df = df.append(nueva_fila, ignore_index=True)\n"
     ]
    },
    {
     "name": "stdout",
     "output_type": "stream",
     "text": [
      "1/1 [==============================] - 0s 17ms/step\n",
      "3: 90.90%\n",
      "1:  8.69%\n",
      "0:  0.29%\n",
      "2:  0.13%\n"
     ]
    },
    {
     "name": "stderr",
     "output_type": "stream",
     "text": [
      "C:\\Users\\Francisco\\AppData\\Local\\Temp\\ipykernel_7812\\2194254065.py:18: FutureWarning: The frame.append method is deprecated and will be removed from pandas in a future version. Use pandas.concat instead.\n",
      "  df = df.append(nueva_fila, ignore_index=True)\n"
     ]
    },
    {
     "name": "stdout",
     "output_type": "stream",
     "text": [
      "1/1 [==============================] - 0s 15ms/step\n",
      "2: 69.64%\n",
      "3: 24.08%\n",
      "1:  6.03%\n",
      "0:  0.26%\n"
     ]
    },
    {
     "name": "stderr",
     "output_type": "stream",
     "text": [
      "C:\\Users\\Francisco\\AppData\\Local\\Temp\\ipykernel_7812\\2194254065.py:18: FutureWarning: The frame.append method is deprecated and will be removed from pandas in a future version. Use pandas.concat instead.\n",
      "  df = df.append(nueva_fila, ignore_index=True)\n"
     ]
    },
    {
     "name": "stdout",
     "output_type": "stream",
     "text": [
      "1/1 [==============================] - 0s 16ms/step\n",
      "3: 96.06%\n",
      "1:  2.54%\n",
      "0:  1.38%\n",
      "2:  0.02%\n"
     ]
    },
    {
     "name": "stderr",
     "output_type": "stream",
     "text": [
      "C:\\Users\\Francisco\\AppData\\Local\\Temp\\ipykernel_7812\\2194254065.py:18: FutureWarning: The frame.append method is deprecated and will be removed from pandas in a future version. Use pandas.concat instead.\n",
      "  df = df.append(nueva_fila, ignore_index=True)\n"
     ]
    },
    {
     "name": "stdout",
     "output_type": "stream",
     "text": [
      "1/1 [==============================] - 0s 17ms/step\n",
      "3: 88.90%\n",
      "1: 10.40%\n",
      "0:  0.36%\n",
      "2:  0.34%\n"
     ]
    },
    {
     "name": "stderr",
     "output_type": "stream",
     "text": [
      "C:\\Users\\Francisco\\AppData\\Local\\Temp\\ipykernel_7812\\2194254065.py:18: FutureWarning: The frame.append method is deprecated and will be removed from pandas in a future version. Use pandas.concat instead.\n",
      "  df = df.append(nueva_fila, ignore_index=True)\n"
     ]
    },
    {
     "name": "stdout",
     "output_type": "stream",
     "text": [
      "1/1 [==============================] - 0s 17ms/step\n",
      "1: 53.67%\n",
      "3: 41.73%\n",
      "2:  4.51%\n",
      "0:  0.09%\n"
     ]
    },
    {
     "name": "stderr",
     "output_type": "stream",
     "text": [
      "C:\\Users\\Francisco\\AppData\\Local\\Temp\\ipykernel_7812\\2194254065.py:18: FutureWarning: The frame.append method is deprecated and will be removed from pandas in a future version. Use pandas.concat instead.\n",
      "  df = df.append(nueva_fila, ignore_index=True)\n"
     ]
    },
    {
     "name": "stdout",
     "output_type": "stream",
     "text": [
      "1/1 [==============================] - 0s 52ms/step\n",
      "1: 60.60%\n",
      "3: 22.36%\n",
      "2: 16.91%\n",
      "0:  0.14%\n"
     ]
    },
    {
     "name": "stderr",
     "output_type": "stream",
     "text": [
      "C:\\Users\\Francisco\\AppData\\Local\\Temp\\ipykernel_7812\\2194254065.py:18: FutureWarning: The frame.append method is deprecated and will be removed from pandas in a future version. Use pandas.concat instead.\n",
      "  df = df.append(nueva_fila, ignore_index=True)\n"
     ]
    },
    {
     "name": "stdout",
     "output_type": "stream",
     "text": [
      "1/1 [==============================] - 0s 15ms/step\n",
      "3: 88.75%\n",
      "1: 11.23%\n",
      "2:  0.01%\n",
      "0:  0.00%\n"
     ]
    },
    {
     "name": "stderr",
     "output_type": "stream",
     "text": [
      "C:\\Users\\Francisco\\AppData\\Local\\Temp\\ipykernel_7812\\2194254065.py:18: FutureWarning: The frame.append method is deprecated and will be removed from pandas in a future version. Use pandas.concat instead.\n",
      "  df = df.append(nueva_fila, ignore_index=True)\n"
     ]
    },
    {
     "name": "stdout",
     "output_type": "stream",
     "text": [
      "1/1 [==============================] - 0s 16ms/step\n",
      "1: 97.51%\n",
      "3:  2.39%\n",
      "2:  0.09%\n",
      "0:  0.01%\n"
     ]
    },
    {
     "name": "stderr",
     "output_type": "stream",
     "text": [
      "C:\\Users\\Francisco\\AppData\\Local\\Temp\\ipykernel_7812\\2194254065.py:18: FutureWarning: The frame.append method is deprecated and will be removed from pandas in a future version. Use pandas.concat instead.\n",
      "  df = df.append(nueva_fila, ignore_index=True)\n"
     ]
    },
    {
     "name": "stdout",
     "output_type": "stream",
     "text": [
      "1/1 [==============================] - 0s 17ms/step\n",
      "3: 43.16%\n",
      "1: 42.30%\n",
      "0: 13.77%\n",
      "2:  0.77%\n"
     ]
    },
    {
     "name": "stderr",
     "output_type": "stream",
     "text": [
      "C:\\Users\\Francisco\\AppData\\Local\\Temp\\ipykernel_7812\\2194254065.py:18: FutureWarning: The frame.append method is deprecated and will be removed from pandas in a future version. Use pandas.concat instead.\n",
      "  df = df.append(nueva_fila, ignore_index=True)\n"
     ]
    },
    {
     "name": "stdout",
     "output_type": "stream",
     "text": [
      "1/1 [==============================] - 0s 15ms/step\n",
      "3: 95.26%\n",
      "1:  4.42%\n",
      "2:  0.22%\n",
      "0:  0.10%\n"
     ]
    },
    {
     "name": "stderr",
     "output_type": "stream",
     "text": [
      "C:\\Users\\Francisco\\AppData\\Local\\Temp\\ipykernel_7812\\2194254065.py:18: FutureWarning: The frame.append method is deprecated and will be removed from pandas in a future version. Use pandas.concat instead.\n",
      "  df = df.append(nueva_fila, ignore_index=True)\n"
     ]
    },
    {
     "name": "stdout",
     "output_type": "stream",
     "text": [
      "1/1 [==============================] - 0s 15ms/step\n",
      "3: 90.37%\n",
      "1:  6.86%\n",
      "0:  2.54%\n",
      "2:  0.23%\n"
     ]
    },
    {
     "name": "stderr",
     "output_type": "stream",
     "text": [
      "C:\\Users\\Francisco\\AppData\\Local\\Temp\\ipykernel_7812\\2194254065.py:18: FutureWarning: The frame.append method is deprecated and will be removed from pandas in a future version. Use pandas.concat instead.\n",
      "  df = df.append(nueva_fila, ignore_index=True)\n"
     ]
    },
    {
     "name": "stdout",
     "output_type": "stream",
     "text": [
      "1/1 [==============================] - 0s 18ms/step\n",
      "1: 69.04%\n",
      "3: 18.90%\n",
      "0: 12.03%\n",
      "2:  0.03%\n"
     ]
    },
    {
     "name": "stderr",
     "output_type": "stream",
     "text": [
      "C:\\Users\\Francisco\\AppData\\Local\\Temp\\ipykernel_7812\\2194254065.py:18: FutureWarning: The frame.append method is deprecated and will be removed from pandas in a future version. Use pandas.concat instead.\n",
      "  df = df.append(nueva_fila, ignore_index=True)\n"
     ]
    },
    {
     "name": "stdout",
     "output_type": "stream",
     "text": [
      "1/1 [==============================] - 0s 16ms/step\n",
      "1: 46.60%\n",
      "3: 37.26%\n",
      "0:  9.12%\n",
      "2:  7.02%\n"
     ]
    },
    {
     "name": "stderr",
     "output_type": "stream",
     "text": [
      "C:\\Users\\Francisco\\AppData\\Local\\Temp\\ipykernel_7812\\2194254065.py:18: FutureWarning: The frame.append method is deprecated and will be removed from pandas in a future version. Use pandas.concat instead.\n",
      "  df = df.append(nueva_fila, ignore_index=True)\n"
     ]
    },
    {
     "name": "stdout",
     "output_type": "stream",
     "text": [
      "1/1 [==============================] - 0s 16ms/step\n",
      "3: 91.40%\n",
      "0:  5.38%\n",
      "1:  3.09%\n",
      "2:  0.13%\n"
     ]
    },
    {
     "name": "stderr",
     "output_type": "stream",
     "text": [
      "C:\\Users\\Francisco\\AppData\\Local\\Temp\\ipykernel_7812\\2194254065.py:18: FutureWarning: The frame.append method is deprecated and will be removed from pandas in a future version. Use pandas.concat instead.\n",
      "  df = df.append(nueva_fila, ignore_index=True)\n"
     ]
    },
    {
     "name": "stdout",
     "output_type": "stream",
     "text": [
      "1/1 [==============================] - 0s 18ms/step\n",
      "3: 93.16%\n",
      "1:  6.42%\n",
      "0:  0.40%\n",
      "2:  0.02%\n"
     ]
    },
    {
     "name": "stderr",
     "output_type": "stream",
     "text": [
      "C:\\Users\\Francisco\\AppData\\Local\\Temp\\ipykernel_7812\\2194254065.py:18: FutureWarning: The frame.append method is deprecated and will be removed from pandas in a future version. Use pandas.concat instead.\n",
      "  df = df.append(nueva_fila, ignore_index=True)\n"
     ]
    },
    {
     "name": "stdout",
     "output_type": "stream",
     "text": [
      "1/1 [==============================] - 0s 17ms/step\n",
      "1: 63.09%\n",
      "3: 29.55%\n",
      "2:  6.93%\n",
      "0:  0.43%\n"
     ]
    },
    {
     "name": "stderr",
     "output_type": "stream",
     "text": [
      "C:\\Users\\Francisco\\AppData\\Local\\Temp\\ipykernel_7812\\2194254065.py:18: FutureWarning: The frame.append method is deprecated and will be removed from pandas in a future version. Use pandas.concat instead.\n",
      "  df = df.append(nueva_fila, ignore_index=True)\n"
     ]
    },
    {
     "name": "stdout",
     "output_type": "stream",
     "text": [
      "1/1 [==============================] - 0s 15ms/step\n",
      "3: 90.37%\n",
      "1:  6.86%\n",
      "0:  2.54%\n",
      "2:  0.23%\n"
     ]
    },
    {
     "name": "stderr",
     "output_type": "stream",
     "text": [
      "C:\\Users\\Francisco\\AppData\\Local\\Temp\\ipykernel_7812\\2194254065.py:18: FutureWarning: The frame.append method is deprecated and will be removed from pandas in a future version. Use pandas.concat instead.\n",
      "  df = df.append(nueva_fila, ignore_index=True)\n"
     ]
    },
    {
     "name": "stdout",
     "output_type": "stream",
     "text": [
      "1/1 [==============================] - 0s 17ms/step\n",
      "1: 69.04%\n",
      "3: 18.90%\n",
      "0: 12.03%\n",
      "2:  0.03%\n"
     ]
    },
    {
     "name": "stderr",
     "output_type": "stream",
     "text": [
      "C:\\Users\\Francisco\\AppData\\Local\\Temp\\ipykernel_7812\\2194254065.py:18: FutureWarning: The frame.append method is deprecated and will be removed from pandas in a future version. Use pandas.concat instead.\n",
      "  df = df.append(nueva_fila, ignore_index=True)\n"
     ]
    },
    {
     "name": "stdout",
     "output_type": "stream",
     "text": [
      "1/1 [==============================] - 0s 16ms/step\n",
      "3: 91.34%\n",
      "1:  8.45%\n",
      "2:  0.16%\n",
      "0:  0.05%\n"
     ]
    },
    {
     "name": "stderr",
     "output_type": "stream",
     "text": [
      "C:\\Users\\Francisco\\AppData\\Local\\Temp\\ipykernel_7812\\2194254065.py:18: FutureWarning: The frame.append method is deprecated and will be removed from pandas in a future version. Use pandas.concat instead.\n",
      "  df = df.append(nueva_fila, ignore_index=True)\n"
     ]
    },
    {
     "name": "stdout",
     "output_type": "stream",
     "text": [
      "1/1 [==============================] - 0s 15ms/step\n",
      "3: 98.39%\n",
      "1:  1.44%\n",
      "0:  0.16%\n",
      "2:  0.01%\n"
     ]
    },
    {
     "name": "stderr",
     "output_type": "stream",
     "text": [
      "C:\\Users\\Francisco\\AppData\\Local\\Temp\\ipykernel_7812\\2194254065.py:18: FutureWarning: The frame.append method is deprecated and will be removed from pandas in a future version. Use pandas.concat instead.\n",
      "  df = df.append(nueva_fila, ignore_index=True)\n"
     ]
    },
    {
     "name": "stdout",
     "output_type": "stream",
     "text": [
      "1/1 [==============================] - 0s 19ms/step\n",
      "3: 99.07%\n",
      "1:  0.93%\n",
      "0:  0.00%\n",
      "2:  0.00%\n"
     ]
    },
    {
     "name": "stderr",
     "output_type": "stream",
     "text": [
      "C:\\Users\\Francisco\\AppData\\Local\\Temp\\ipykernel_7812\\2194254065.py:18: FutureWarning: The frame.append method is deprecated and will be removed from pandas in a future version. Use pandas.concat instead.\n",
      "  df = df.append(nueva_fila, ignore_index=True)\n"
     ]
    },
    {
     "name": "stdout",
     "output_type": "stream",
     "text": [
      "1/1 [==============================] - 0s 19ms/step\n",
      "3: 99.93%\n",
      "1:  0.06%\n",
      "0:  0.00%\n",
      "2:  0.00%\n"
     ]
    },
    {
     "name": "stderr",
     "output_type": "stream",
     "text": [
      "C:\\Users\\Francisco\\AppData\\Local\\Temp\\ipykernel_7812\\2194254065.py:18: FutureWarning: The frame.append method is deprecated and will be removed from pandas in a future version. Use pandas.concat instead.\n",
      "  df = df.append(nueva_fila, ignore_index=True)\n"
     ]
    },
    {
     "name": "stdout",
     "output_type": "stream",
     "text": [
      "1/1 [==============================] - 0s 15ms/step\n",
      "1: 53.16%\n",
      "3: 46.36%\n",
      "2:  0.46%\n",
      "0:  0.02%\n"
     ]
    },
    {
     "name": "stderr",
     "output_type": "stream",
     "text": [
      "C:\\Users\\Francisco\\AppData\\Local\\Temp\\ipykernel_7812\\2194254065.py:18: FutureWarning: The frame.append method is deprecated and will be removed from pandas in a future version. Use pandas.concat instead.\n",
      "  df = df.append(nueva_fila, ignore_index=True)\n"
     ]
    },
    {
     "name": "stdout",
     "output_type": "stream",
     "text": [
      "1/1 [==============================] - 0s 16ms/step\n",
      "3: 95.63%\n",
      "1:  3.74%\n",
      "2:  0.62%\n",
      "0:  0.01%\n"
     ]
    },
    {
     "name": "stderr",
     "output_type": "stream",
     "text": [
      "C:\\Users\\Francisco\\AppData\\Local\\Temp\\ipykernel_7812\\2194254065.py:18: FutureWarning: The frame.append method is deprecated and will be removed from pandas in a future version. Use pandas.concat instead.\n",
      "  df = df.append(nueva_fila, ignore_index=True)\n"
     ]
    },
    {
     "name": "stdout",
     "output_type": "stream",
     "text": [
      "1/1 [==============================] - 0s 20ms/step\n",
      "1: 78.77%\n",
      "3: 19.29%\n",
      "2:  1.55%\n",
      "0:  0.38%\n"
     ]
    },
    {
     "name": "stderr",
     "output_type": "stream",
     "text": [
      "C:\\Users\\Francisco\\AppData\\Local\\Temp\\ipykernel_7812\\2194254065.py:18: FutureWarning: The frame.append method is deprecated and will be removed from pandas in a future version. Use pandas.concat instead.\n",
      "  df = df.append(nueva_fila, ignore_index=True)\n"
     ]
    },
    {
     "name": "stdout",
     "output_type": "stream",
     "text": [
      "1/1 [==============================] - 0s 16ms/step\n",
      "3: 98.55%\n",
      "1:  1.43%\n",
      "2:  0.01%\n",
      "0:  0.00%\n"
     ]
    },
    {
     "name": "stderr",
     "output_type": "stream",
     "text": [
      "C:\\Users\\Francisco\\AppData\\Local\\Temp\\ipykernel_7812\\2194254065.py:18: FutureWarning: The frame.append method is deprecated and will be removed from pandas in a future version. Use pandas.concat instead.\n",
      "  df = df.append(nueva_fila, ignore_index=True)\n"
     ]
    },
    {
     "name": "stdout",
     "output_type": "stream",
     "text": [
      "1/1 [==============================] - 0s 16ms/step\n",
      "3: 98.13%\n",
      "0:  1.48%\n",
      "1:  0.39%\n",
      "2:  0.00%\n"
     ]
    },
    {
     "name": "stderr",
     "output_type": "stream",
     "text": [
      "C:\\Users\\Francisco\\AppData\\Local\\Temp\\ipykernel_7812\\2194254065.py:18: FutureWarning: The frame.append method is deprecated and will be removed from pandas in a future version. Use pandas.concat instead.\n",
      "  df = df.append(nueva_fila, ignore_index=True)\n"
     ]
    },
    {
     "name": "stdout",
     "output_type": "stream",
     "text": [
      "1/1 [==============================] - 0s 16ms/step\n",
      "3: 99.94%\n",
      "1:  0.06%\n",
      "0:  0.00%\n",
      "2:  0.00%\n"
     ]
    },
    {
     "name": "stderr",
     "output_type": "stream",
     "text": [
      "C:\\Users\\Francisco\\AppData\\Local\\Temp\\ipykernel_7812\\2194254065.py:18: FutureWarning: The frame.append method is deprecated and will be removed from pandas in a future version. Use pandas.concat instead.\n",
      "  df = df.append(nueva_fila, ignore_index=True)\n"
     ]
    },
    {
     "name": "stdout",
     "output_type": "stream",
     "text": [
      "1/1 [==============================] - 0s 16ms/step\n",
      "1: 97.10%\n",
      "3:  2.81%\n",
      "2:  0.09%\n",
      "0:  0.00%\n"
     ]
    },
    {
     "name": "stderr",
     "output_type": "stream",
     "text": [
      "C:\\Users\\Francisco\\AppData\\Local\\Temp\\ipykernel_7812\\2194254065.py:18: FutureWarning: The frame.append method is deprecated and will be removed from pandas in a future version. Use pandas.concat instead.\n",
      "  df = df.append(nueva_fila, ignore_index=True)\n"
     ]
    },
    {
     "name": "stdout",
     "output_type": "stream",
     "text": [
      "1/1 [==============================] - 0s 18ms/step\n",
      "3: 99.82%\n",
      "1:  0.18%\n",
      "2:  0.00%\n",
      "0:  0.00%\n"
     ]
    },
    {
     "name": "stderr",
     "output_type": "stream",
     "text": [
      "C:\\Users\\Francisco\\AppData\\Local\\Temp\\ipykernel_7812\\2194254065.py:18: FutureWarning: The frame.append method is deprecated and will be removed from pandas in a future version. Use pandas.concat instead.\n",
      "  df = df.append(nueva_fila, ignore_index=True)\n"
     ]
    },
    {
     "name": "stdout",
     "output_type": "stream",
     "text": [
      "1/1 [==============================] - 0s 16ms/step\n",
      "3: 71.88%\n",
      "1: 23.00%\n",
      "0:  5.01%\n",
      "2:  0.11%\n"
     ]
    },
    {
     "name": "stderr",
     "output_type": "stream",
     "text": [
      "C:\\Users\\Francisco\\AppData\\Local\\Temp\\ipykernel_7812\\2194254065.py:18: FutureWarning: The frame.append method is deprecated and will be removed from pandas in a future version. Use pandas.concat instead.\n",
      "  df = df.append(nueva_fila, ignore_index=True)\n"
     ]
    },
    {
     "name": "stdout",
     "output_type": "stream",
     "text": [
      "1/1 [==============================] - 0s 15ms/step\n",
      "3: 99.95%\n",
      "1:  0.05%\n",
      "0:  0.00%\n",
      "2:  0.00%\n"
     ]
    },
    {
     "name": "stderr",
     "output_type": "stream",
     "text": [
      "C:\\Users\\Francisco\\AppData\\Local\\Temp\\ipykernel_7812\\2194254065.py:18: FutureWarning: The frame.append method is deprecated and will be removed from pandas in a future version. Use pandas.concat instead.\n",
      "  df = df.append(nueva_fila, ignore_index=True)\n"
     ]
    },
    {
     "name": "stdout",
     "output_type": "stream",
     "text": [
      "1/1 [==============================] - 0s 15ms/step\n",
      "3: 66.91%\n",
      "2: 30.25%\n",
      "1:  1.77%\n",
      "0:  1.07%\n"
     ]
    },
    {
     "name": "stderr",
     "output_type": "stream",
     "text": [
      "C:\\Users\\Francisco\\AppData\\Local\\Temp\\ipykernel_7812\\2194254065.py:18: FutureWarning: The frame.append method is deprecated and will be removed from pandas in a future version. Use pandas.concat instead.\n",
      "  df = df.append(nueva_fila, ignore_index=True)\n"
     ]
    },
    {
     "name": "stdout",
     "output_type": "stream",
     "text": [
      "1/1 [==============================] - 0s 16ms/step\n",
      "3: 93.75%\n",
      "1:  6.05%\n",
      "2:  0.19%\n",
      "0:  0.01%\n"
     ]
    },
    {
     "name": "stderr",
     "output_type": "stream",
     "text": [
      "C:\\Users\\Francisco\\AppData\\Local\\Temp\\ipykernel_7812\\2194254065.py:18: FutureWarning: The frame.append method is deprecated and will be removed from pandas in a future version. Use pandas.concat instead.\n",
      "  df = df.append(nueva_fila, ignore_index=True)\n"
     ]
    },
    {
     "name": "stdout",
     "output_type": "stream",
     "text": [
      "1/1 [==============================] - 0s 15ms/step\n",
      "3: 97.69%\n",
      "1:  2.05%\n",
      "0:  0.25%\n",
      "2:  0.01%\n"
     ]
    },
    {
     "name": "stderr",
     "output_type": "stream",
     "text": [
      "C:\\Users\\Francisco\\AppData\\Local\\Temp\\ipykernel_7812\\2194254065.py:18: FutureWarning: The frame.append method is deprecated and will be removed from pandas in a future version. Use pandas.concat instead.\n",
      "  df = df.append(nueva_fila, ignore_index=True)\n"
     ]
    },
    {
     "name": "stdout",
     "output_type": "stream",
     "text": [
      "1/1 [==============================] - 0s 16ms/step\n",
      "1: 94.93%\n",
      "3:  5.00%\n",
      "2:  0.07%\n",
      "0:  0.00%\n"
     ]
    },
    {
     "name": "stderr",
     "output_type": "stream",
     "text": [
      "C:\\Users\\Francisco\\AppData\\Local\\Temp\\ipykernel_7812\\2194254065.py:18: FutureWarning: The frame.append method is deprecated and will be removed from pandas in a future version. Use pandas.concat instead.\n",
      "  df = df.append(nueva_fila, ignore_index=True)\n"
     ]
    },
    {
     "name": "stdout",
     "output_type": "stream",
     "text": [
      "1/1 [==============================] - 0s 16ms/step\n",
      "1: 56.04%\n",
      "3: 43.84%\n",
      "2:  0.10%\n",
      "0:  0.01%\n"
     ]
    },
    {
     "name": "stderr",
     "output_type": "stream",
     "text": [
      "C:\\Users\\Francisco\\AppData\\Local\\Temp\\ipykernel_7812\\2194254065.py:18: FutureWarning: The frame.append method is deprecated and will be removed from pandas in a future version. Use pandas.concat instead.\n",
      "  df = df.append(nueva_fila, ignore_index=True)\n"
     ]
    },
    {
     "name": "stdout",
     "output_type": "stream",
     "text": [
      "1/1 [==============================] - 0s 16ms/step\n",
      "1: 87.38%\n",
      "3: 12.46%\n",
      "2:  0.16%\n",
      "0:  0.00%\n"
     ]
    },
    {
     "name": "stderr",
     "output_type": "stream",
     "text": [
      "C:\\Users\\Francisco\\AppData\\Local\\Temp\\ipykernel_7812\\2194254065.py:18: FutureWarning: The frame.append method is deprecated and will be removed from pandas in a future version. Use pandas.concat instead.\n",
      "  df = df.append(nueva_fila, ignore_index=True)\n"
     ]
    },
    {
     "name": "stdout",
     "output_type": "stream",
     "text": [
      "1/1 [==============================] - 0s 18ms/step\n",
      "3: 83.07%\n",
      "1: 15.43%\n",
      "0:  1.32%\n",
      "2:  0.18%\n"
     ]
    },
    {
     "name": "stderr",
     "output_type": "stream",
     "text": [
      "C:\\Users\\Francisco\\AppData\\Local\\Temp\\ipykernel_7812\\2194254065.py:18: FutureWarning: The frame.append method is deprecated and will be removed from pandas in a future version. Use pandas.concat instead.\n",
      "  df = df.append(nueva_fila, ignore_index=True)\n"
     ]
    },
    {
     "name": "stdout",
     "output_type": "stream",
     "text": [
      "1/1 [==============================] - 0s 16ms/step\n",
      "3: 99.83%\n",
      "1:  0.17%\n",
      "0:  0.00%\n",
      "2:  0.00%\n"
     ]
    },
    {
     "name": "stderr",
     "output_type": "stream",
     "text": [
      "C:\\Users\\Francisco\\AppData\\Local\\Temp\\ipykernel_7812\\2194254065.py:18: FutureWarning: The frame.append method is deprecated and will be removed from pandas in a future version. Use pandas.concat instead.\n",
      "  df = df.append(nueva_fila, ignore_index=True)\n"
     ]
    },
    {
     "name": "stdout",
     "output_type": "stream",
     "text": [
      "1/1 [==============================] - 0s 24ms/step\n",
      "3: 56.67%\n",
      "1: 42.43%\n",
      "2:  0.83%\n",
      "0:  0.07%\n"
     ]
    },
    {
     "name": "stderr",
     "output_type": "stream",
     "text": [
      "C:\\Users\\Francisco\\AppData\\Local\\Temp\\ipykernel_7812\\2194254065.py:18: FutureWarning: The frame.append method is deprecated and will be removed from pandas in a future version. Use pandas.concat instead.\n",
      "  df = df.append(nueva_fila, ignore_index=True)\n"
     ]
    },
    {
     "name": "stdout",
     "output_type": "stream",
     "text": [
      "1/1 [==============================] - 0s 17ms/step\n",
      "3: 99.49%\n",
      "1:  0.50%\n",
      "0:  0.01%\n",
      "2:  0.00%\n"
     ]
    },
    {
     "name": "stderr",
     "output_type": "stream",
     "text": [
      "C:\\Users\\Francisco\\AppData\\Local\\Temp\\ipykernel_7812\\2194254065.py:18: FutureWarning: The frame.append method is deprecated and will be removed from pandas in a future version. Use pandas.concat instead.\n",
      "  df = df.append(nueva_fila, ignore_index=True)\n"
     ]
    },
    {
     "name": "stdout",
     "output_type": "stream",
     "text": [
      "1/1 [==============================] - 0s 15ms/step\n",
      "3: 94.71%\n",
      "1:  2.72%\n",
      "2:  2.56%\n",
      "0:  0.01%\n"
     ]
    },
    {
     "name": "stderr",
     "output_type": "stream",
     "text": [
      "C:\\Users\\Francisco\\AppData\\Local\\Temp\\ipykernel_7812\\2194254065.py:18: FutureWarning: The frame.append method is deprecated and will be removed from pandas in a future version. Use pandas.concat instead.\n",
      "  df = df.append(nueva_fila, ignore_index=True)\n"
     ]
    },
    {
     "name": "stdout",
     "output_type": "stream",
     "text": [
      "1/1 [==============================] - 0s 16ms/step\n",
      "3: 88.83%\n",
      "1: 11.10%\n",
      "2:  0.06%\n",
      "0:  0.02%\n"
     ]
    },
    {
     "name": "stderr",
     "output_type": "stream",
     "text": [
      "C:\\Users\\Francisco\\AppData\\Local\\Temp\\ipykernel_7812\\2194254065.py:18: FutureWarning: The frame.append method is deprecated and will be removed from pandas in a future version. Use pandas.concat instead.\n",
      "  df = df.append(nueva_fila, ignore_index=True)\n"
     ]
    },
    {
     "name": "stdout",
     "output_type": "stream",
     "text": [
      "1/1 [==============================] - 0s 16ms/step\n",
      "1: 68.46%\n",
      "3: 31.49%\n",
      "2:  0.05%\n",
      "0:  0.00%\n"
     ]
    },
    {
     "name": "stderr",
     "output_type": "stream",
     "text": [
      "C:\\Users\\Francisco\\AppData\\Local\\Temp\\ipykernel_7812\\2194254065.py:18: FutureWarning: The frame.append method is deprecated and will be removed from pandas in a future version. Use pandas.concat instead.\n",
      "  df = df.append(nueva_fila, ignore_index=True)\n"
     ]
    },
    {
     "name": "stdout",
     "output_type": "stream",
     "text": [
      "1/1 [==============================] - 0s 16ms/step\n",
      "3: 83.45%\n",
      "1: 16.30%\n",
      "0:  0.13%\n",
      "2:  0.12%\n"
     ]
    },
    {
     "name": "stderr",
     "output_type": "stream",
     "text": [
      "C:\\Users\\Francisco\\AppData\\Local\\Temp\\ipykernel_7812\\2194254065.py:18: FutureWarning: The frame.append method is deprecated and will be removed from pandas in a future version. Use pandas.concat instead.\n",
      "  df = df.append(nueva_fila, ignore_index=True)\n"
     ]
    },
    {
     "name": "stdout",
     "output_type": "stream",
     "text": [
      "1/1 [==============================] - 0s 16ms/step\n",
      "3: 99.62%\n",
      "1:  0.38%\n",
      "0:  0.00%\n",
      "2:  0.00%\n"
     ]
    },
    {
     "name": "stderr",
     "output_type": "stream",
     "text": [
      "C:\\Users\\Francisco\\AppData\\Local\\Temp\\ipykernel_7812\\2194254065.py:18: FutureWarning: The frame.append method is deprecated and will be removed from pandas in a future version. Use pandas.concat instead.\n",
      "  df = df.append(nueva_fila, ignore_index=True)\n"
     ]
    },
    {
     "name": "stdout",
     "output_type": "stream",
     "text": [
      "1/1 [==============================] - 0s 17ms/step\n",
      "1: 91.77%\n",
      "3:  8.16%\n",
      "2:  0.07%\n",
      "0:  0.00%\n"
     ]
    },
    {
     "name": "stderr",
     "output_type": "stream",
     "text": [
      "C:\\Users\\Francisco\\AppData\\Local\\Temp\\ipykernel_7812\\2194254065.py:18: FutureWarning: The frame.append method is deprecated and will be removed from pandas in a future version. Use pandas.concat instead.\n",
      "  df = df.append(nueva_fila, ignore_index=True)\n"
     ]
    },
    {
     "name": "stdout",
     "output_type": "stream",
     "text": [
      "1/1 [==============================] - 0s 16ms/step\n",
      "3: 98.04%\n",
      "1:  1.14%\n",
      "2:  0.73%\n",
      "0:  0.09%\n"
     ]
    },
    {
     "name": "stderr",
     "output_type": "stream",
     "text": [
      "C:\\Users\\Francisco\\AppData\\Local\\Temp\\ipykernel_7812\\2194254065.py:18: FutureWarning: The frame.append method is deprecated and will be removed from pandas in a future version. Use pandas.concat instead.\n",
      "  df = df.append(nueva_fila, ignore_index=True)\n"
     ]
    },
    {
     "name": "stdout",
     "output_type": "stream",
     "text": [
      "1/1 [==============================] - 0s 16ms/step\n",
      "3: 89.29%\n",
      "1:  9.09%\n",
      "0:  1.52%\n",
      "2:  0.11%\n"
     ]
    },
    {
     "name": "stderr",
     "output_type": "stream",
     "text": [
      "C:\\Users\\Francisco\\AppData\\Local\\Temp\\ipykernel_7812\\2194254065.py:18: FutureWarning: The frame.append method is deprecated and will be removed from pandas in a future version. Use pandas.concat instead.\n",
      "  df = df.append(nueva_fila, ignore_index=True)\n"
     ]
    }
   ],
   "source": [
    "# Ruta del directorio que deseas leer\n",
    "dir = f'D://Facultad//PPS//Proyecto Ecografia//Noviembre2020'\n",
    "df = pd.DataFrame({'Direccion':[], 'Target DENSE':[]})\n",
    "\n",
    "def MostrarFuncion(df, directorio):\n",
    "\n",
    "    for archivo in os.listdir(directorio):\n",
    "\n",
    "        ruta_completa = os.path.join(directorio, archivo)\n",
    "        \n",
    "        if os.path.isdir(ruta_completa):\n",
    "            df = MostrarFuncion(df, ruta_completa)\n",
    "        if os.path.isfile(ruta_completa) and ruta_completa.split('.')[-1] == 'mov':\n",
    "            nueva_fila = {\n",
    "                'Direccion':ruta_completa, \n",
    "                'Target DENSE' : predict_action(ruta_completa, 3),\n",
    "                }\n",
    "            df = df.append(nueva_fila, ignore_index=True)\n",
    "\n",
    "    return df\n",
    "\n",
    "display(df)\n",
    "df = MostrarFuncion(df, dir)\n",
    "df.to_csv('resultados_dense.csv', index=False)"
   ]
  }
 ],
 "metadata": {
  "kernelspec": {
   "display_name": "Python 3",
   "language": "python",
   "name": "python3"
  },
  "language_info": {
   "codemirror_mode": {
    "name": "ipython",
    "version": 3
   },
   "file_extension": ".py",
   "mimetype": "text/x-python",
   "name": "python",
   "nbconvert_exporter": "python",
   "pygments_lexer": "ipython3",
   "version": "3.10.11"
  },
  "orig_nbformat": 4
 },
 "nbformat": 4,
 "nbformat_minor": 2
}
